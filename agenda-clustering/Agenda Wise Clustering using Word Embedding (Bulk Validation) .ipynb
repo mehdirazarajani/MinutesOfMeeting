{
 "cells": [
  {
   "cell_type": "code",
   "execution_count": 1,
   "metadata": {},
   "outputs": [
    {
     "name": "stderr",
     "output_type": "stream",
     "text": [
      "C:\\Users\\Mehdi Raza\\Anaconda3\\lib\\site-packages\\tensorflow\\python\\framework\\dtypes.py:516: FutureWarning: Passing (type, 1) or '1type' as a synonym of type is deprecated; in a future version of numpy, it will be understood as (type, (1,)) / '(1,)type'.\n",
      "  _np_qint8 = np.dtype([(\"qint8\", np.int8, 1)])\n",
      "C:\\Users\\Mehdi Raza\\Anaconda3\\lib\\site-packages\\tensorflow\\python\\framework\\dtypes.py:517: FutureWarning: Passing (type, 1) or '1type' as a synonym of type is deprecated; in a future version of numpy, it will be understood as (type, (1,)) / '(1,)type'.\n",
      "  _np_quint8 = np.dtype([(\"quint8\", np.uint8, 1)])\n",
      "C:\\Users\\Mehdi Raza\\Anaconda3\\lib\\site-packages\\tensorflow\\python\\framework\\dtypes.py:518: FutureWarning: Passing (type, 1) or '1type' as a synonym of type is deprecated; in a future version of numpy, it will be understood as (type, (1,)) / '(1,)type'.\n",
      "  _np_qint16 = np.dtype([(\"qint16\", np.int16, 1)])\n",
      "C:\\Users\\Mehdi Raza\\Anaconda3\\lib\\site-packages\\tensorflow\\python\\framework\\dtypes.py:519: FutureWarning: Passing (type, 1) or '1type' as a synonym of type is deprecated; in a future version of numpy, it will be understood as (type, (1,)) / '(1,)type'.\n",
      "  _np_quint16 = np.dtype([(\"quint16\", np.uint16, 1)])\n",
      "C:\\Users\\Mehdi Raza\\Anaconda3\\lib\\site-packages\\tensorflow\\python\\framework\\dtypes.py:520: FutureWarning: Passing (type, 1) or '1type' as a synonym of type is deprecated; in a future version of numpy, it will be understood as (type, (1,)) / '(1,)type'.\n",
      "  _np_qint32 = np.dtype([(\"qint32\", np.int32, 1)])\n",
      "C:\\Users\\Mehdi Raza\\Anaconda3\\lib\\site-packages\\tensorflow\\python\\framework\\dtypes.py:525: FutureWarning: Passing (type, 1) or '1type' as a synonym of type is deprecated; in a future version of numpy, it will be understood as (type, (1,)) / '(1,)type'.\n",
      "  np_resource = np.dtype([(\"resource\", np.ubyte, 1)])\n",
      "C:\\Users\\Mehdi Raza\\Anaconda3\\lib\\site-packages\\tensorboard\\compat\\tensorflow_stub\\dtypes.py:541: FutureWarning: Passing (type, 1) or '1type' as a synonym of type is deprecated; in a future version of numpy, it will be understood as (type, (1,)) / '(1,)type'.\n",
      "  _np_qint8 = np.dtype([(\"qint8\", np.int8, 1)])\n",
      "C:\\Users\\Mehdi Raza\\Anaconda3\\lib\\site-packages\\tensorboard\\compat\\tensorflow_stub\\dtypes.py:542: FutureWarning: Passing (type, 1) or '1type' as a synonym of type is deprecated; in a future version of numpy, it will be understood as (type, (1,)) / '(1,)type'.\n",
      "  _np_quint8 = np.dtype([(\"quint8\", np.uint8, 1)])\n",
      "C:\\Users\\Mehdi Raza\\Anaconda3\\lib\\site-packages\\tensorboard\\compat\\tensorflow_stub\\dtypes.py:543: FutureWarning: Passing (type, 1) or '1type' as a synonym of type is deprecated; in a future version of numpy, it will be understood as (type, (1,)) / '(1,)type'.\n",
      "  _np_qint16 = np.dtype([(\"qint16\", np.int16, 1)])\n",
      "C:\\Users\\Mehdi Raza\\Anaconda3\\lib\\site-packages\\tensorboard\\compat\\tensorflow_stub\\dtypes.py:544: FutureWarning: Passing (type, 1) or '1type' as a synonym of type is deprecated; in a future version of numpy, it will be understood as (type, (1,)) / '(1,)type'.\n",
      "  _np_quint16 = np.dtype([(\"quint16\", np.uint16, 1)])\n",
      "C:\\Users\\Mehdi Raza\\Anaconda3\\lib\\site-packages\\tensorboard\\compat\\tensorflow_stub\\dtypes.py:545: FutureWarning: Passing (type, 1) or '1type' as a synonym of type is deprecated; in a future version of numpy, it will be understood as (type, (1,)) / '(1,)type'.\n",
      "  _np_qint32 = np.dtype([(\"qint32\", np.int32, 1)])\n",
      "C:\\Users\\Mehdi Raza\\Anaconda3\\lib\\site-packages\\tensorboard\\compat\\tensorflow_stub\\dtypes.py:550: FutureWarning: Passing (type, 1) or '1type' as a synonym of type is deprecated; in a future version of numpy, it will be understood as (type, (1,)) / '(1,)type'.\n",
      "  np_resource = np.dtype([(\"resource\", np.ubyte, 1)])\n"
     ]
    }
   ],
   "source": [
    "import json\n",
    "import os\n",
    "import glob\n",
    "import numpy as np\n",
    "import pandas as pd\n",
    "from pandas.io.json import json_normalize\n",
    "import spacy\n",
    "from spacy.lang.en.stop_words import STOP_WORDS\n",
    "import en_core_web_sm\n",
    "import string\n",
    "from sklearn.feature_extraction.text import TfidfVectorizer\n",
    "from tqdm import tqdm\n",
    "from sklearn.decomposition import PCA\n",
    "import seaborn as sns\n",
    "from sklearn.cluster import KMeans\n",
    "from sklearn.cluster import Birch\n",
    "from sklearn.cluster import AgglomerativeClustering\n",
    "from sklearn.mixture import GaussianMixture\n",
    "import matplotlib.pyplot as plt\n",
    "from sklearn.manifold import TSNE\n",
    "from sklearn.decomposition import LatentDirichletAllocation\n",
    "from sklearn.feature_extraction.text import CountVectorizer\n",
    "from sklearn.model_selection import train_test_split\n",
    "from sklearn.model_selection import cross_val_score\n",
    "from sklearn.model_selection import cross_val_predict\n",
    "from sklearn.metrics import precision_score, recall_score, f1_score, accuracy_score, confusion_matrix\n",
    "from sklearn.linear_model import SGDClassifier\n",
    "import itertools\n",
    "import pickle\n",
    "import tensorflow as tf\n",
    "tf.compat.v1.enable_eager_execution()\n",
    "import tensorflow_hub as hub"
   ]
  },
  {
   "cell_type": "code",
   "execution_count": 2,
   "metadata": {},
   "outputs": [],
   "source": [
    "root_path = \"D:\\\\MinutesOfMeeting\\\\meeting-transcript-data\\\\parsed_data1\""
   ]
  },
  {
   "cell_type": "code",
   "execution_count": 3,
   "metadata": {},
   "outputs": [],
   "source": [
    "def get_file_content(filename: str) -> json:\n",
    "    with open(filename) as file_data:\n",
    "        _data = json.load(file_data)\n",
    "\n",
    "    return _data"
   ]
  },
  {
   "cell_type": "code",
   "execution_count": 4,
   "metadata": {},
   "outputs": [],
   "source": [
    "def selected_topics(model, vectorizer, top_n=5):\n",
    "    current_words = []\n",
    "    keywords = []\n",
    "    \n",
    "    for idx, topic in enumerate(model.components_):\n",
    "        words = [(vectorizer.get_feature_names()[i], topic[i]) for i in topic.argsort()[:-top_n - 1:-1]]\n",
    "        for word in words:\n",
    "            if word[0] not in current_words:\n",
    "                keywords.append(word)\n",
    "                current_words.append(word[0])\n",
    "                \n",
    "    keywords.sort(key = lambda x: x[1])  \n",
    "    keywords.reverse()\n",
    "    return_values = []\n",
    "    for ii in keywords:\n",
    "        return_values.append(ii[0])\n",
    "    return return_values"
   ]
  },
  {
   "cell_type": "code",
   "execution_count": 5,
   "metadata": {},
   "outputs": [],
   "source": [
    "def get_mean_cv_score(k, label, embeddings, pred):\n",
    "    vectorizers = []\n",
    "\n",
    "    for ii in range(0, k):\n",
    "        # Creating a vectorizer\n",
    "        vectorizers.append(CountVectorizer(min_df=5, max_df=0.9, stop_words='english', lowercase=True, token_pattern='[a-zA-Z\\-][a-zA-Z\\-]{2,}'))\n",
    "    vectorized_data = []\n",
    "    vectorizers = []\n",
    "\n",
    "    for ii in range(0, k):\n",
    "        # Creating a vectorizer\n",
    "        vectorizers.append(CountVectorizer(min_df=5, max_df=0.9, stop_words='english', lowercase=True, token_pattern='[a-zA-Z\\-][a-zA-Z\\-]{2,}'))\n",
    "    vectorized_data = []\n",
    "    for current_cluster, cvec in enumerate(vectorizers):\n",
    "        try:\n",
    "            vectorized_data.append(cvec.fit_transform(df.loc[df[label] == current_cluster, 'processed_text']))\n",
    "        except Exception as e:\n",
    "            print(\"Not enough instances in cluster: \" + str(current_cluster))\n",
    "            vectorized_data.append(None)\n",
    "    lda_models = []\n",
    "    for ii in range(0, k):\n",
    "        # Latent Dirichlet Allocation Model\n",
    "        lda = LatentDirichletAllocation(n_components=20, max_iter=10, learning_method='online',verbose=False, random_state=42)\n",
    "        lda_models.append(lda)\n",
    "\n",
    "    clusters_lda_data = []\n",
    "    for current_cluster, lda in enumerate(lda_models):\n",
    "        # print(\"Current Cluster: \" + str(current_cluster))\n",
    "\n",
    "        if vectorized_data[current_cluster] != None:\n",
    "            clusters_lda_data.append((lda.fit_transform(vectorized_data[current_cluster])))\n",
    "    \n",
    "    X_train, X_test, y_train, y_test = train_test_split(embeddings.numpy(), pred, test_size=0.4, random_state=42)\n",
    "\n",
    "    sgd_clf = SGDClassifier(max_iter=10000, tol=1e-3, random_state=42, n_jobs=-1)\n",
    "    # train SGD\n",
    "    sgd_clf.fit(X_train, y_train)\n",
    "\n",
    "    sgd_cv_score = cross_val_score(sgd_clf, embeddings.numpy(), pred, cv=10)\n",
    "    return float(sgd_cv_score.mean()) * 100    "
   ]
  },
  {
   "cell_type": "code",
   "execution_count": 6,
   "metadata": {},
   "outputs": [],
   "source": [
    "k = 4"
   ]
  },
  {
   "cell_type": "code",
   "execution_count": 7,
   "metadata": {},
   "outputs": [],
   "source": [
    "punctuations = string.punctuation\n",
    "stopwords = list(STOP_WORDS)\n",
    "custom_stop_words = [\n",
    "    'doi', 'preprint', 'copyright', 'peer', 'reviewed', 'org', 'https', 'et', 'al', 'author', 'figure', \n",
    "    'rights', 'reserved', 'permission', 'used', 'using', 'biorxiv', 'medrxiv', 'license', 'fig', 'fig.', \n",
    "    'al.', 'Elsevier', 'PMC', 'CZI', 'www'\n",
    "]\n",
    "stopwords = list(set(stopwords) | set(custom_stop_words))"
   ]
  },
  {
   "cell_type": "code",
   "execution_count": 8,
   "metadata": {},
   "outputs": [],
   "source": [
    "parser = spacy.load('en_core_web_sm', disable = ['ner', 'tagger'])\n",
    "parser.max_length = 7000000"
   ]
  },
  {
   "cell_type": "code",
   "execution_count": 9,
   "metadata": {},
   "outputs": [],
   "source": [
    "def spacy_tokenizer(sentence):\n",
    "    mytokens = parser(sentence)\n",
    "    mytokens = [ word.lemma_.lower().strip() if word.lemma_ != \"-PRON-\" else word.lower_ for word in mytokens ]\n",
    "    mytokens = [ word for word in mytokens if word not in stopwords and word not in punctuations ]\n",
    "    mytokens = \" \".join([i for i in mytokens])\n",
    "    return mytokens"
   ]
  },
  {
   "cell_type": "code",
   "execution_count": 10,
   "metadata": {},
   "outputs": [],
   "source": [
    "embed = hub.load(\"D:\\\\Embeddings\\\\universal-sentence-encoder_4\")"
   ]
  },
  {
   "cell_type": "code",
   "execution_count": 11,
   "metadata": {},
   "outputs": [],
   "source": [
    "KM_purities = []\n",
    "GM_purities = []\n",
    "BR_purities = []\n",
    "AG_purities = []"
   ]
  },
  {
   "cell_type": "code",
   "execution_count": 12,
   "metadata": {},
   "outputs": [
    {
     "name": "stdout",
     "output_type": "stream",
     "text": [
      "data_meeting_text_pdf_meetingtranscript566.txt\n",
      "data_meeting_text_pdf_meetingtranscript567.txt\n",
      "Not enough instances in cluster: 1\n",
      "Not enough instances in cluster: 2\n"
     ]
    },
    {
     "name": "stderr",
     "output_type": "stream",
     "text": [
      "C:\\Users\\Mehdi Raza\\Anaconda3\\lib\\site-packages\\sklearn\\model_selection\\_split.py:652: Warning: The least populated class in y has only 8 members, which is too few. The minimum number of members in any class cannot be less than n_splits=10.\n",
      "  % (min_groups, self.n_splits)), Warning)\n"
     ]
    },
    {
     "name": "stdout",
     "output_type": "stream",
     "text": [
      "Not enough instances in cluster: 0\n",
      "Not enough instances in cluster: 3\n",
      "Not enough instances in cluster: 0\n",
      "Not enough instances in cluster: 3\n"
     ]
    },
    {
     "name": "stderr",
     "output_type": "stream",
     "text": [
      "C:\\Users\\Mehdi Raza\\Anaconda3\\lib\\site-packages\\sklearn\\model_selection\\_split.py:652: Warning: The least populated class in y has only 6 members, which is too few. The minimum number of members in any class cannot be less than n_splits=10.\n",
      "  % (min_groups, self.n_splits)), Warning)\n"
     ]
    },
    {
     "name": "stdout",
     "output_type": "stream",
     "text": [
      "Not enough instances in cluster: 2\n",
      "Not enough instances in cluster: 3\n"
     ]
    },
    {
     "name": "stderr",
     "output_type": "stream",
     "text": [
      "C:\\Users\\Mehdi Raza\\Anaconda3\\lib\\site-packages\\sklearn\\model_selection\\_split.py:652: Warning: The least populated class in y has only 5 members, which is too few. The minimum number of members in any class cannot be less than n_splits=10.\n",
      "  % (min_groups, self.n_splits)), Warning)\n"
     ]
    },
    {
     "name": "stdout",
     "output_type": "stream",
     "text": [
      "data_meeting_text_pdf_meetingtranscript568.txt\n",
      "Not enough instances in cluster: 1\n",
      "Not enough instances in cluster: 3\n",
      "Not enough instances in cluster: 0\n",
      "Not enough instances in cluster: 3\n"
     ]
    },
    {
     "name": "stderr",
     "output_type": "stream",
     "text": [
      "C:\\Users\\Mehdi Raza\\Anaconda3\\lib\\site-packages\\sklearn\\model_selection\\_split.py:652: Warning: The least populated class in y has only 8 members, which is too few. The minimum number of members in any class cannot be less than n_splits=10.\n",
      "  % (min_groups, self.n_splits)), Warning)\n"
     ]
    },
    {
     "name": "stdout",
     "output_type": "stream",
     "text": [
      "Not enough instances in cluster: 2\n",
      "Not enough instances in cluster: 3\n"
     ]
    },
    {
     "name": "stderr",
     "output_type": "stream",
     "text": [
      "C:\\Users\\Mehdi Raza\\Anaconda3\\lib\\site-packages\\sklearn\\model_selection\\_split.py:652: Warning: The least populated class in y has only 5 members, which is too few. The minimum number of members in any class cannot be less than n_splits=10.\n",
      "  % (min_groups, self.n_splits)), Warning)\n"
     ]
    },
    {
     "name": "stdout",
     "output_type": "stream",
     "text": [
      "Not enough instances in cluster: 1\n",
      "Not enough instances in cluster: 2\n",
      "Not enough instances in cluster: 3\n"
     ]
    },
    {
     "name": "stderr",
     "output_type": "stream",
     "text": [
      "C:\\Users\\Mehdi Raza\\Anaconda3\\lib\\site-packages\\sklearn\\model_selection\\_split.py:652: Warning: The least populated class in y has only 5 members, which is too few. The minimum number of members in any class cannot be less than n_splits=10.\n",
      "  % (min_groups, self.n_splits)), Warning)\n"
     ]
    },
    {
     "name": "stdout",
     "output_type": "stream",
     "text": [
      "data_meeting_text_pdf_meetingtranscript569.txt\n",
      "Not enough instances in cluster: 1\n",
      "Not enough instances in cluster: 3\n",
      "Not enough instances in cluster: 1\n",
      "Not enough instances in cluster: 1\n",
      "data_meeting_text_pdf_meetingtranscript571.txt\n",
      "Not enough instances in cluster: 1\n",
      "Not enough instances in cluster: 2\n",
      "Not enough instances in cluster: 3\n"
     ]
    },
    {
     "name": "stderr",
     "output_type": "stream",
     "text": [
      "C:\\Users\\Mehdi Raza\\Anaconda3\\lib\\site-packages\\sklearn\\model_selection\\_split.py:652: Warning: The least populated class in y has only 7 members, which is too few. The minimum number of members in any class cannot be less than n_splits=10.\n",
      "  % (min_groups, self.n_splits)), Warning)\n"
     ]
    },
    {
     "name": "stdout",
     "output_type": "stream",
     "text": [
      "Not enough instances in cluster: 1\n",
      "Not enough instances in cluster: 2\n",
      "Not enough instances in cluster: 3\n"
     ]
    },
    {
     "name": "stderr",
     "output_type": "stream",
     "text": [
      "C:\\Users\\Mehdi Raza\\Anaconda3\\lib\\site-packages\\sklearn\\model_selection\\_split.py:652: Warning: The least populated class in y has only 6 members, which is too few. The minimum number of members in any class cannot be less than n_splits=10.\n",
      "  % (min_groups, self.n_splits)), Warning)\n"
     ]
    },
    {
     "name": "stdout",
     "output_type": "stream",
     "text": [
      "Not enough instances in cluster: 0\n",
      "Not enough instances in cluster: 1\n",
      "Not enough instances in cluster: 3\n"
     ]
    },
    {
     "name": "stderr",
     "output_type": "stream",
     "text": [
      "C:\\Users\\Mehdi Raza\\Anaconda3\\lib\\site-packages\\sklearn\\model_selection\\_split.py:652: Warning: The least populated class in y has only 7 members, which is too few. The minimum number of members in any class cannot be less than n_splits=10.\n",
      "  % (min_groups, self.n_splits)), Warning)\n"
     ]
    },
    {
     "name": "stdout",
     "output_type": "stream",
     "text": [
      "Not enough instances in cluster: 0\n",
      "Not enough instances in cluster: 1\n",
      "Not enough instances in cluster: 3\n"
     ]
    },
    {
     "name": "stderr",
     "output_type": "stream",
     "text": [
      "C:\\Users\\Mehdi Raza\\Anaconda3\\lib\\site-packages\\sklearn\\model_selection\\_split.py:652: Warning: The least populated class in y has only 7 members, which is too few. The minimum number of members in any class cannot be less than n_splits=10.\n",
      "  % (min_groups, self.n_splits)), Warning)\n"
     ]
    },
    {
     "name": "stdout",
     "output_type": "stream",
     "text": [
      "data_meeting_text_pdf_meetingtranscript574.txt\n",
      "Not enough instances in cluster: 3\n",
      "Not enough instances in cluster: 1\n",
      "Not enough instances in cluster: 3\n",
      "data_meeting_text_pdf_meetingtranscript575.txt\n",
      "data_meeting_text_pdf_meetingtranscript576.txt\n",
      "Not enough instances in cluster: 3\n",
      "data_meeting_text_pdf_meetingtranscript578.txt\n",
      "Not enough instances in cluster: 1\n",
      "Not enough instances in cluster: 3\n",
      "data_meeting_text_pdf_meetingtranscript579.txt\n",
      "Not enough instances in cluster: 2\n",
      "Not enough instances in cluster: 2\n",
      "data_meeting_text_pdf_meetingtranscript580.txt\n",
      "Not enough instances in cluster: 0\n",
      "Not enough instances in cluster: 2\n",
      "Not enough instances in cluster: 0\n",
      "Not enough instances in cluster: 2\n",
      "Not enough instances in cluster: 1\n",
      "Not enough instances in cluster: 2\n",
      "Not enough instances in cluster: 1\n",
      "Not enough instances in cluster: 3\n",
      "data_meeting_text_pdf_meetingtranscript581.txt\n",
      "data_meeting_text_pdf_meetingtranscript582.txt\n",
      "Not enough instances in cluster: 0\n",
      "Not enough instances in cluster: 0\n",
      "Not enough instances in cluster: 3\n"
     ]
    },
    {
     "name": "stderr",
     "output_type": "stream",
     "text": [
      "C:\\Users\\Mehdi Raza\\Anaconda3\\lib\\site-packages\\sklearn\\model_selection\\_split.py:652: Warning: The least populated class in y has only 8 members, which is too few. The minimum number of members in any class cannot be less than n_splits=10.\n",
      "  % (min_groups, self.n_splits)), Warning)\n"
     ]
    },
    {
     "name": "stdout",
     "output_type": "stream",
     "text": [
      "data_meeting_text_pdf_meetingtranscript583.txt\n",
      "data_meeting_text_pdf_meetingtranscript584.txt\n",
      "Not enough instances in cluster: 0\n",
      "Not enough instances in cluster: 0\n",
      "Not enough instances in cluster: 3\n",
      "data_meeting_text_pdf_meetingtranscript585.txt\n",
      "data_meeting_text_pdf_meetingtranscript587.txt\n",
      "Not enough instances in cluster: 3\n"
     ]
    },
    {
     "name": "stderr",
     "output_type": "stream",
     "text": [
      "C:\\Users\\Mehdi Raza\\Anaconda3\\lib\\site-packages\\sklearn\\model_selection\\_split.py:652: Warning: The least populated class in y has only 5 members, which is too few. The minimum number of members in any class cannot be less than n_splits=10.\n",
      "  % (min_groups, self.n_splits)), Warning)\n"
     ]
    },
    {
     "name": "stdout",
     "output_type": "stream",
     "text": [
      "Not enough instances in cluster: 3\n"
     ]
    },
    {
     "name": "stderr",
     "output_type": "stream",
     "text": [
      "C:\\Users\\Mehdi Raza\\Anaconda3\\lib\\site-packages\\sklearn\\model_selection\\_split.py:652: Warning: The least populated class in y has only 5 members, which is too few. The minimum number of members in any class cannot be less than n_splits=10.\n",
      "  % (min_groups, self.n_splits)), Warning)\n"
     ]
    },
    {
     "name": "stdout",
     "output_type": "stream",
     "text": [
      "data_meeting_text_pdf_meetingtranscript588.txt\n",
      "data_meeting_text_pdf_meetingtranscript590.txt\n",
      "Not enough instances in cluster: 1\n",
      "Not enough instances in cluster: 2\n",
      "Not enough instances in cluster: 0\n",
      "Not enough instances in cluster: 2\n",
      "Not enough instances in cluster: 1\n",
      "Not enough instances in cluster: 3\n"
     ]
    },
    {
     "name": "stderr",
     "output_type": "stream",
     "text": [
      "C:\\Users\\Mehdi Raza\\Anaconda3\\lib\\site-packages\\sklearn\\model_selection\\_split.py:652: Warning: The least populated class in y has only 4 members, which is too few. The minimum number of members in any class cannot be less than n_splits=10.\n",
      "  % (min_groups, self.n_splits)), Warning)\n"
     ]
    },
    {
     "name": "stdout",
     "output_type": "stream",
     "text": [
      "Not enough instances in cluster: 0\n",
      "Not enough instances in cluster: 1\n",
      "data_meeting_text_pdf_meetingtranscript592.txt\n",
      "Not enough instances in cluster: 2\n",
      "Not enough instances in cluster: 3\n"
     ]
    },
    {
     "name": "stderr",
     "output_type": "stream",
     "text": [
      "C:\\Users\\Mehdi Raza\\Anaconda3\\lib\\site-packages\\sklearn\\model_selection\\_split.py:652: Warning: The least populated class in y has only 6 members, which is too few. The minimum number of members in any class cannot be less than n_splits=10.\n",
      "  % (min_groups, self.n_splits)), Warning)\n"
     ]
    },
    {
     "name": "stdout",
     "output_type": "stream",
     "text": [
      "Not enough instances in cluster: 0\n"
     ]
    },
    {
     "name": "stderr",
     "output_type": "stream",
     "text": [
      "C:\\Users\\Mehdi Raza\\Anaconda3\\lib\\site-packages\\sklearn\\model_selection\\_split.py:652: Warning: The least populated class in y has only 8 members, which is too few. The minimum number of members in any class cannot be less than n_splits=10.\n",
      "  % (min_groups, self.n_splits)), Warning)\n"
     ]
    },
    {
     "name": "stdout",
     "output_type": "stream",
     "text": [
      "Not enough instances in cluster: 2\n"
     ]
    },
    {
     "name": "stderr",
     "output_type": "stream",
     "text": [
      "C:\\Users\\Mehdi Raza\\Anaconda3\\lib\\site-packages\\sklearn\\model_selection\\_split.py:652: Warning: The least populated class in y has only 5 members, which is too few. The minimum number of members in any class cannot be less than n_splits=10.\n",
      "  % (min_groups, self.n_splits)), Warning)\n"
     ]
    },
    {
     "name": "stdout",
     "output_type": "stream",
     "text": [
      "Not enough instances in cluster: 2\n",
      "Not enough instances in cluster: 3\n"
     ]
    },
    {
     "name": "stderr",
     "output_type": "stream",
     "text": [
      "C:\\Users\\Mehdi Raza\\Anaconda3\\lib\\site-packages\\sklearn\\model_selection\\_split.py:652: Warning: The least populated class in y has only 4 members, which is too few. The minimum number of members in any class cannot be less than n_splits=10.\n",
      "  % (min_groups, self.n_splits)), Warning)\n"
     ]
    },
    {
     "name": "stdout",
     "output_type": "stream",
     "text": [
      "data_meeting_text_pdf_meetingtranscript594.txt\n",
      "data_meeting_text_pdf_meetingtranscript595.txt\n",
      "Not enough instances in cluster: 3\n",
      "Not enough instances in cluster: 3\n",
      "Not enough instances in cluster: 2\n",
      "Not enough instances in cluster: 1\n",
      "Not enough instances in cluster: 3\n",
      "data_meeting_text_pdf_meetingtranscript598.txt\n"
     ]
    }
   ],
   "source": [
    "for file in os.listdir(root_path):\n",
    "    file_path = root_path + '\\\\' + file\n",
    "    print(file)\n",
    "    data = get_file_content(file_path)\n",
    "    df = json_normalize(data,sep=\"_\")\n",
    "    df[\"processed_text\"] = df[\"sentence\"]\n",
    "    text = df['processed_text'].values\n",
    "    \n",
    "    A = embed(text)\n",
    "    pca = PCA(n_components=0.95, random_state=42)\n",
    "    A_reduced= pca.fit_transform(A.numpy())\n",
    "    \n",
    "    kmeans = KMeans(n_clusters=k, random_state=42, n_jobs=-1)\n",
    "    y_pred_KM = kmeans.fit_predict(A_reduced)\n",
    "    df['cluster_KMeans'] = y_pred_KM\n",
    "    KM_purities.append(get_mean_cv_score(k, \"cluster_KMeans\", A, y_pred_KM))\n",
    "\n",
    "    gm = GaussianMixture(n_components=k)\n",
    "    gm = gm.fit(A_reduced)\n",
    "    y_pred_gm = gm.fit_predict(A_reduced)\n",
    "    df[\"cluster_GuassianMixture\"] = y_pred_gm\n",
    "    GM_purities.append(get_mean_cv_score(k, \"cluster_GuassianMixture\", A, y_pred_gm))\n",
    "\n",
    "    birch = Birch(n_clusters=k, threshold=0.1)\n",
    "    y_pred_birch = birch.fit_predict(A_reduced)\n",
    "    df['cluster_birch'] = y_pred_birch\n",
    "    BR_purities.append(get_mean_cv_score(k, \"cluster_birch\", A, y_pred_birch))\n",
    "    \n",
    "    agglomerativeClustering = AgglomerativeClustering(n_clusters=k, affinity='euclidean', linkage='ward')\n",
    "    y_pred_agglomerativeClustering = agglomerativeClustering.fit_predict(A_reduced)\n",
    "    df['cluster_agglomerativeClustering'] = y_pred_agglomerativeClustering\n",
    "    AG_purities.append(get_mean_cv_score(k, \"cluster_agglomerativeClustering\", A, y_pred_agglomerativeClustering))\n"
   ]
  },
  {
   "cell_type": "code",
   "execution_count": 13,
   "metadata": {},
   "outputs": [
    {
     "data": {
      "text/plain": [
       "[92.84516857354733,\n",
       " 78.73809523809523,\n",
       " 84.80952380952381,\n",
       " 82.56277056277057,\n",
       " 84.66666666666667,\n",
       " 95.49999999999999,\n",
       " 89.57975357975357,\n",
       " 89.04737139290916,\n",
       " 95.2548036758563,\n",
       " 94.22420634920637,\n",
       " 93.2178932178932,\n",
       " 92.78309182910702,\n",
       " 90.94444444444446,\n",
       " 92.74138904573688,\n",
       " 89.83816183816185,\n",
       " 92.59356725146199,\n",
       " 93.21291208791209,\n",
       " 93.71894697812382,\n",
       " 87.28571428571428,\n",
       " 89.30952380952381,\n",
       " 93.11375661375662,\n",
       " 87.84848484848486,\n",
       " 91.28804513015038]"
      ]
     },
     "execution_count": 13,
     "metadata": {},
     "output_type": "execute_result"
    }
   ],
   "source": [
    "KM_purities"
   ]
  },
  {
   "cell_type": "code",
   "execution_count": 14,
   "metadata": {},
   "outputs": [
    {
     "data": {
      "text/plain": [
       "[93.25038402457757,\n",
       " 83.0,\n",
       " 85.77380952380953,\n",
       " 84.1024531024531,\n",
       " 82.83333333333334,\n",
       " 91.1043956043956,\n",
       " 81.36130536130534,\n",
       " 87.79474872953135,\n",
       " 94.01914098972922,\n",
       " 88.27777777777777,\n",
       " 94.77777777777779,\n",
       " 93.06573802541544,\n",
       " 88.50757575757576,\n",
       " 92.3478260869565,\n",
       " 86.04166666666669,\n",
       " 94.86842105263158,\n",
       " 88.66666666666667,\n",
       " 92.55516862170087,\n",
       " 83.88888888888889,\n",
       " 83.02380952380952,\n",
       " 95.7853072853073,\n",
       " 83.5,\n",
       " 91.147181884024]"
      ]
     },
     "execution_count": 14,
     "metadata": {},
     "output_type": "execute_result"
    }
   ],
   "source": [
    "GM_purities"
   ]
  },
  {
   "cell_type": "code",
   "execution_count": 15,
   "metadata": {},
   "outputs": [
    {
     "data": {
      "text/plain": [
       "[83.82350760103819,\n",
       " 88.47619047619048,\n",
       " 94.66666666666667,\n",
       " 87.19191919191917,\n",
       " 82.5,\n",
       " 94.92307692307692,\n",
       " 90.60739260739261,\n",
       " 92.19387401309596,\n",
       " 86.43925991449211,\n",
       " 91.14495798319328,\n",
       " 91.5,\n",
       " 90.01777499856247,\n",
       " 90.07070707070707,\n",
       " 93.06088838697535,\n",
       " 86.35576923076924,\n",
       " 92.75386996904025,\n",
       " 96.55219780219781,\n",
       " 87.43956247682611,\n",
       " 91.27777777777779,\n",
       " 87.47619047619048,\n",
       " 91.13901169073581,\n",
       " 81.33366633366632,\n",
       " 84.86775236775237]"
      ]
     },
     "execution_count": 15,
     "metadata": {},
     "output_type": "execute_result"
    }
   ],
   "source": [
    "BR_purities"
   ]
  },
  {
   "cell_type": "code",
   "execution_count": 16,
   "metadata": {},
   "outputs": [
    {
     "data": {
      "text/plain": [
       "[87.14506418065928,\n",
       " 93.14285714285715,\n",
       " 95.83333333333334,\n",
       " 89.8080808080808,\n",
       " 82.5,\n",
       " 94.92307692307692,\n",
       " 87.05411255411256,\n",
       " 95.01383399209486,\n",
       " 90.31185807656395,\n",
       " 96.81757703081233,\n",
       " 86.01406926406925,\n",
       " 93.47599332988328,\n",
       " 99.0909090909091,\n",
       " 91.72953133822699,\n",
       " 92.6771978021978,\n",
       " 92.75386996904025,\n",
       " 96.55219780219781,\n",
       " 84.67955135335558,\n",
       " 83.97619047619047,\n",
       " 91.57142857142857,\n",
       " 89.65710872162485,\n",
       " 90.23076923076923,\n",
       " 88.37075537075536]"
      ]
     },
     "execution_count": 16,
     "metadata": {},
     "output_type": "execute_result"
    }
   ],
   "source": [
    "AG_purities"
   ]
  },
  {
   "cell_type": "code",
   "execution_count": 17,
   "metadata": {},
   "outputs": [
    {
     "data": {
      "image/png": "[encoded data removed]",
      "text/plain": [
       "<Figure size 432x288 with 1 Axes>"
      ]
     },
     "metadata": {
      "needs_background": "light"
     },
     "output_type": "display_data"
    }
   ],
   "source": [
    "min_purities = min(min(KM_purities), min(GM_purities), min(BR_purities), min(AG_purities))\n",
    "\n",
    "x = range(int(min_purities), 100)\n",
    "\n",
    "y1 = np.array(KM_purities)\n",
    "y2 = np.array(GM_purities) \n",
    "y3 = np.array(BR_purities)\n",
    "y4 = np.array(AG_purities)\n",
    "\n",
    "\n",
    "# multiple line plot\n",
    "plt.plot(y1, label = \"KM_purities\")\n",
    "plt.plot(y2, label = \"GM_purities\")\n",
    "plt.plot(y3, label = \"BR_purities\")\n",
    "plt.plot(y4, label = \"AG_purities\")\n",
    "\n",
    "# plt.plot(_df['y1'], marker='o', markerfacecolor='blue', markersize=12, color='skyblue', linewidth=4)\n",
    "# plt.plot(_df['y2'], data=_df, marker='', color='olive', linewidth=2)\n",
    "# plt.plot(_df['y3'], data=_df, marker='', color='olive', linewidth=2, linestyle='dashed', label=\"toto\")\n",
    "plt.legend()\n",
    "plt.show()"
   ]
  },
  {
   "cell_type": "code",
   "execution_count": 18,
   "metadata": {},
   "outputs": [
    {
     "data": {
      "text/plain": [
       "3"
      ]
     },
     "execution_count": 18,
     "metadata": {},
     "output_type": "execute_result"
    }
   ],
   "source": [
    "np.argmax([np.mean(KM_purities), np.mean(GM_purities), np.mean(BR_purities), np.mean(AG_purities)])"
   ]
  },
  {
   "cell_type": "code",
   "execution_count": 19,
   "metadata": {},
   "outputs": [
    {
     "data": {
      "text/plain": [
       "91.0143202766191"
      ]
     },
     "execution_count": 19,
     "metadata": {},
     "output_type": "execute_result"
    }
   ],
   "source": [
    "np.mean(AG_purities)"
   ]
  },
  {
   "cell_type": "code",
   "execution_count": null,
   "metadata": {},
   "outputs": [],
   "source": []
  }
 ],
 "metadata": {
  "kernelspec": {
   "display_name": "Python 3",
   "language": "python",
   "name": "python3"
  },
  "language_info": {
   "codemirror_mode": {
    "name": "ipython",
    "version": 3
   },
   "file_extension": ".py",
   "mimetype": "text/x-python",
   "name": "python",
   "nbconvert_exporter": "python",
   "pygments_lexer": "ipython3",
   "version": "3.7.3"
  }
 },
 "nbformat": 4,
 "nbformat_minor": 2
}
