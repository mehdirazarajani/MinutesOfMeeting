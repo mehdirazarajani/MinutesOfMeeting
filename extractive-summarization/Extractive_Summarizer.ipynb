{
  "nbformat": 4,
  "nbformat_minor": 0,
  "metadata": {
    "colab": {
      "name": "Extractive-Summarizer.ipynb",
      "provenance": [],
      "collapsed_sections": [],
      "toc_visible": true
    },
    "kernelspec": {
      "name": "python3",
      "display_name": "Python 3"
    }
  },
  "cells": [
    {
      "cell_type": "code",
      "metadata": {
        "id": "-kup3aLH2AY0",
        "colab_type": "code",
        "colab": {}
      },
      "source": [
        "! wget http://nlp.stanford.edu/data/glove.6B.zip\n",
        "! unzip glove*.zip"
      ],
      "execution_count": 0,
      "outputs": []
    },
    {
      "cell_type": "code",
      "metadata": {
        "id": "p7e8PsLv2QmA",
        "colab_type": "code",
        "outputId": "0887d90f-21a4-452c-b695-fdcd7973d92e",
        "colab": {
          "base_uri": "https://localhost:8080/",
          "height": 84
        }
      },
      "source": [
        "import numpy as np\n",
        "import pandas as pd\n",
        "\n",
        "import nltk\n",
        "from nltk.tokenize import word_tokenize, sent_tokenize\n",
        "from nltk.stem import PorterStemmer\n",
        "nltk.download('stopwords')# one time execution\n",
        "from nltk.corpus import stopwords\n",
        "nltk.download('punkt') # one time execution\n",
        "\n",
        "import re\n",
        "import json\n",
        "from sklearn.metrics.pairwise import cosine_similarity\n",
        "import networkx as nx\n",
        "\n",
        "import hashlib "
      ],
      "execution_count": 0,
      "outputs": [
        {
          "output_type": "stream",
          "text": [
            "[nltk_data] Downloading package stopwords to /root/nltk_data...\n",
            "[nltk_data]   Unzipping corpora/stopwords.zip.\n",
            "[nltk_data] Downloading package punkt to /root/nltk_data...\n",
            "[nltk_data]   Unzipping tokenizers/punkt.zip.\n"
          ],
          "name": "stdout"
        }
      ]
    },
    {
      "cell_type": "code",
      "metadata": {
        "id": "TiWNoZz-9frf",
        "colab_type": "code",
        "colab": {}
      },
      "source": [
        "with open('/content/data_meeting_text_amazon.txt') as data_file:\n",
        "  _data = json.load(data_file)\n",
        "  sentences = [d['sentence'].lower() for d in _data]\n",
        "  speakers = [d['speaker'] for d in _data]"
      ],
      "execution_count": 0,
      "outputs": []
    },
    {
      "cell_type": "code",
      "metadata": {
        "id": "K5LYQFpN-TGI",
        "colab_type": "code",
        "colab": {}
      },
      "source": [
        "stop_words = stopwords.words('english')"
      ],
      "execution_count": 0,
      "outputs": []
    },
    {
      "cell_type": "code",
      "metadata": {
        "id": "wZgXdXGt94Kg",
        "colab_type": "code",
        "colab": {}
      },
      "source": [
        "def remove_stopwords(sen):\n",
        "  sen_new = \" \".join([i for i in sen if i not in stop_words])\n",
        "  return sen_new"
      ],
      "execution_count": 0,
      "outputs": []
    },
    {
      "cell_type": "code",
      "metadata": {
        "id": "dhLaUXcs95zW",
        "colab_type": "code",
        "colab": {}
      },
      "source": [
        "clean_sentences = [remove_stopwords(r.split()) for r in sentences]"
      ],
      "execution_count": 0,
      "outputs": []
    },
    {
      "cell_type": "code",
      "metadata": {
        "id": "HR1eRv7T-ZOD",
        "colab_type": "code",
        "colab": {}
      },
      "source": [
        "clean_sentences"
      ],
      "execution_count": 0,
      "outputs": []
    },
    {
      "cell_type": "code",
      "metadata": {
        "id": "8t_P_2bh-gyO",
        "colab_type": "code",
        "colab": {}
      },
      "source": [
        "def get_word_embedings(model_name):\n",
        "  word_embeddings = dict()\n",
        "  f = open(model_name, encoding='utf-8')\n",
        "  for line in f:\n",
        "    values = line.split()\n",
        "    word = values[0]\n",
        "    coefs = np.asarray(values[1:], dtype='float32')\n",
        "    word_embeddings[word] = coefs\n",
        "  f.close()\n",
        "  return word_embeddings"
      ],
      "execution_count": 0,
      "outputs": []
    },
    {
      "cell_type": "code",
      "metadata": {
        "id": "VQqHsdQH_Xti",
        "colab_type": "code",
        "colab": {}
      },
      "source": [
        "def get_sentence_vectors(word_embeddings, sentences, dim):\n",
        "  sentence_vectors = list()\n",
        "  for i in clean_sentences:\n",
        "    if len(i) != 0:\n",
        "      v = sum([word_embeddings.get(w, np.zeros((dim,))) for w in i.split()])/(len(i.split())+0.001)\n",
        "    else:\n",
        "      v = np.zeros((dim,))\n",
        "    sentence_vectors.append(v)\n",
        "  return sentence_vectors"
      ],
      "execution_count": 0,
      "outputs": []
    },
    {
      "cell_type": "code",
      "metadata": {
        "id": "Pfqe5TYXCuya",
        "colab_type": "code",
        "colab": {}
      },
      "source": [
        "def get_similarity_matrix(size, sentence_vectors, dim):\n",
        "  sim_mat = np.zeros([size, size])\n",
        "  for i in range(size):\n",
        "    for j in range(size):\n",
        "      if i != j:\n",
        "        sim_mat[i][j] = cosine_similarity(sentence_vectors[i].reshape(1,dim), sentence_vectors[j].reshape(1,dim))[0,0]\n",
        "  return sim_mat"
      ],
      "execution_count": 0,
      "outputs": []
    },
    {
      "cell_type": "code",
      "metadata": {
        "id": "ax1cx-OLDysQ",
        "colab_type": "code",
        "colab": {}
      },
      "source": [
        "def get_network_graph_scores(sim_mat):\n",
        "  nx_graph = nx.from_numpy_array(sim_mat)\n",
        "  scores = nx.pagerank(nx_graph)\n",
        "  return scores"
      ],
      "execution_count": 0,
      "outputs": []
    },
    {
      "cell_type": "code",
      "metadata": {
        "id": "NvVpUkO8EFqU",
        "colab_type": "code",
        "colab": {}
      },
      "source": [
        "def get_sentene_ranking(sentences, ng_scores):\n",
        "  ranked_sentences = sorted(((ng_scores[i],s) for i,s in enumerate(sentences)), reverse=True)\n",
        "  return ranked_sentences"
      ],
      "execution_count": 0,
      "outputs": []
    },
    {
      "cell_type": "code",
      "metadata": {
        "id": "9dlVZj3Q-3sJ",
        "colab_type": "code",
        "colab": {}
      },
      "source": [
        "def page_rank_algorithm(model_file, dim):\n",
        "  word_embeddings = get_word_embedings(model_file)\n",
        "  sentence_vectors = get_sentence_vectors(word_embeddings, clean_sentences, dim)\n",
        "  similarity_vector = get_similarity_matrix(len(sentences), sentence_vectors, dim)\n",
        "  network_graph_score = get_network_graph_scores(similarity_vector)\n",
        "  sentence_ranking = get_sentene_ranking(sentences, network_graph_score)\n",
        "  return sentence_ranking"
      ],
      "execution_count": 0,
      "outputs": []
    },
    {
      "cell_type": "code",
      "metadata": {
        "id": "T3_qYuqeH0Rr",
        "colab_type": "code",
        "colab": {}
      },
      "source": [
        "import csv\n",
        "\n",
        "sentence_ranking = page_rank_algorithm('/content/glove.6B.100d.txt', 100)\n",
        "\n",
        "with open('ranked_sentences_100d.csv', 'w') as output_file:\n",
        "  writer = csv.writer(output_file)\n",
        "  for sen in sentence_ranking:\n",
        "    writer.writerow(list(sen))"
      ],
      "execution_count": 0,
      "outputs": []
    },
    {
      "cell_type": "markdown",
      "metadata": {
        "id": "UeY-dkr8Wsnd",
        "colab_type": "text"
      },
      "source": [
        ""
      ]
    },
    {
      "cell_type": "code",
      "metadata": {
        "id": "ADP2KDauWsQ4",
        "colab_type": "code",
        "colab": {}
      },
      "source": [
        "def _create_dictionary_table(sentences) -> dict: \n",
        "  frequency_table = dict()\n",
        "  stop_words = set(stopwords.words(\"english\"))\n",
        "  for text_string in sentences:\n",
        "    words = word_tokenize(text_string)\n",
        "    stem = PorterStemmer()\n",
        "    for wd in words:\n",
        "      wd = stem.stem(wd)\n",
        "      if wd in stop_words:\n",
        "        continue\n",
        "      if wd in frequency_table:\n",
        "        frequency_table[wd] += 1\n",
        "      else:\n",
        "        frequency_table[wd] = 1\n",
        "  return frequency_table"
      ],
      "execution_count": 0,
      "outputs": []
    },
    {
      "cell_type": "code",
      "metadata": {
        "id": "qxWdS64lW2Hb",
        "colab_type": "code",
        "colab": {}
      },
      "source": [
        "def _calculate_sentence_scores(sentences, frequency_table) -> dict:   \n",
        "\n",
        "  sentence_weight = dict()\n",
        "  for sentence in sentences:\n",
        "    sentence_wordcount = (len(word_tokenize(sentence)))\n",
        "    sentence_wordcount_without_stop_words = 0\n",
        "    for word_weight in frequency_table:\n",
        "      if word_weight in sentence.lower():\n",
        "        sentence_wordcount_without_stop_words += 1\n",
        "        # sentence_hash = hashlib.md5(sentence.encode())\n",
        "        sentence_hash = sentence\n",
        "        if sentence_hash in sentence_weight:\n",
        "            sentence_weight[sentence_hash] += frequency_table[word_weight]\n",
        "        else:\n",
        "            sentence_weight[sentence_hash] = frequency_table[word_weight]\n",
        "    sentence_weight[sentence_hash] = (sentence_weight[sentence_hash] + 0.5) / (sentence_wordcount_without_stop_words + 1)\n",
        "    \n",
        "  return sentence_weight"
      ],
      "execution_count": 0,
      "outputs": []
    },
    {
      "cell_type": "code",
      "metadata": {
        "id": "BGmQqpWvYzou",
        "colab_type": "code",
        "colab": {}
      },
      "source": [
        "def _calculate_average_score(sentence_weight) -> int:   \n",
        "  sum_values = 0\n",
        "  for entry in sentence_weight:\n",
        "    sum_values += sentence_weight[entry]\n",
        "  average_score = (sum_values / len(sentence_weight))\n",
        "  return average_score"
      ],
      "execution_count": 0,
      "outputs": []
    },
    {
      "cell_type": "code",
      "metadata": {
        "id": "2PBXHm9wY8kE",
        "colab_type": "code",
        "colab": {}
      },
      "source": [
        "def _get_article_summary(sentences, sentence_weight, threshold):\n",
        "  sentence_counter = 0\n",
        "  article_summary = ''\n",
        "\n",
        "  for sentence in sentences:\n",
        "    # sentence_hash = hashlib.md5(sentence.encode())\n",
        "    sentence_hash = sentence\n",
        "    if sentence_hash in sentence_weight and sentence_weight[sentence_hash] >= (threshold):\n",
        "      article_summary += \" \" + sentence\n",
        "      sentence_counter += 1\n",
        "  return article_summary"
      ],
      "execution_count": 0,
      "outputs": []
    },
    {
      "cell_type": "code",
      "metadata": {
        "id": "sIL5R1CNZc_W",
        "colab_type": "code",
        "colab": {}
      },
      "source": [
        "def sorted_weighted_frequency_sentences(sentences):\n",
        "    \n",
        "  #creating a dictionary for the word frequency table\n",
        "  frequency_table = _create_dictionary_table(sentences)\n",
        "\n",
        "  #algorithm for scoring a sentence by its words\n",
        "  sentence_scores = _calculate_sentence_scores(sentences, frequency_table)\n",
        "  sorted_sentence_scores = sorted([(key, value) for (key, value) in sentence_scores.items()], key=lambda x: x[1], reverse=False)\n",
        "\n",
        "  #getting the threshold\n",
        "  threshold = _calculate_average_score(sentence_scores)\n",
        "\n",
        "  # #producing the summary\n",
        "  article_summary = _get_article_summary(sentences, sentence_scores, 1.5 * threshold)\n",
        "\n",
        "  return sorted_sentence_scores"
      ],
      "execution_count": 0,
      "outputs": []
    },
    {
      "cell_type": "code",
      "metadata": {
        "id": "_JHe4PDjb2ba",
        "colab_type": "code",
        "colab": {}
      },
      "source": [
        "_create_dictionary_table(sentences)"
      ],
      "execution_count": 0,
      "outputs": []
    },
    {
      "cell_type": "code",
      "metadata": {
        "id": "M0_d2ke7CA_8",
        "colab_type": "code",
        "colab": {}
      },
      "source": [
        "import csv\n",
        "\n",
        "sentence_ranking = sorted_weighted_frequency_sentences(sentences)\n",
        "\n",
        "with open('ranked_sentences_own.csv', 'w') as output_file:\n",
        "  writer = csv.writer(output_file)\n",
        "  for sen in sentence_ranking:\n",
        "    writer.writerow(list(sen))"
      ],
      "execution_count": 0,
      "outputs": []
    },
    {
      "cell_type": "code",
      "metadata": {
        "id": "Fv0KWLjSbTKz",
        "colab_type": "code",
        "outputId": "186fbe10-a4e7-4dce-b44e-31bb50c408bf",
        "colab": {
          "base_uri": "https://localhost:8080/",
          "height": 1000
        }
      },
      "source": [
        ""
      ],
      "execution_count": 0,
      "outputs": [
        {
          "output_type": "execute_result",
          "data": {
            "text/plain": [
              "[('very.', 56.0),\n",
              " ('sorry about that.', 56.0),\n",
              " ('meetings.', 44.666666666666664),\n",
              " ('huh?.', 40.333333333333336),\n",
              " ('yes and no.', 39.0),\n",
              " ('yes.', 39.0),\n",
              " ('thank you.', 37.666666666666664),\n",
              " ('we have.', 37.666666666666664),\n",
              " ('they are my ideas.', 37.666666666666664),\n",
              " ('excuse me.', 37.666666666666664),\n",
              " (\"it's your clock.\", 36.25),\n",
              " (\"look, i'm sorry.\", 35.8),\n",
              " (\"i'm in a meeting.\", 34.75),\n",
              " ('currently,.', 34.2),\n",
              " (\"yes, it's on bbc one.\", 30.285714285714285),\n",
              " ('bye.', 29.5),\n",
              " (\"oh, that's a shame.\", 29.142857142857142),\n",
              " ('subject to conditions.', 29.0),\n",
              " ('we already do that.', 28.5),\n",
              " (\"everybody's got to sign, however.\", 26.25),\n",
              " ('first, the good news.', 26.0),\n",
              " ('now, getting back to the five points.', 26.0),\n",
              " ('get away from interruptions,.', 25.571428571428573),\n",
              " ('some directors run the company through frequent meetings.',\n",
              "  24.666666666666668),\n",
              " (\"that's to approve the accounts on.\", 24.666666666666668),\n",
              " (\"i've got to go.\", 24.6),\n",
              " (\"it's a legal requirement.\", 24.5),\n",
              " ('you might agree or disagree.', 23.6),\n",
              " ('the answer is as many or as few as you want.', 23.4),\n",
              " ('i do have a copy of the file.', 23.0),\n",
              " ('can you record it for me, please?.', 22.75),\n",
              " ('are you all familiar with your articles? no.', 22.5),\n",
              " (\"if you don't like them, i've got others.\", 22.11111111111111),\n",
              " ('you really have to look at your own articles.', 21.833333333333332),\n",
              " (\"so there's no substitute for having a look.\", 21.714285714285715),\n",
              " ('whatever your articles say, you should follow them.', 21.555555555555557),\n",
              " (\"it's not binding, and you can change it later.\", 21.1),\n",
              " (\"i'm being directors, reports, budgets, management's accounts.\",\n",
              "  20.727272727272727),\n",
              " ('you can probably delegate to a committee, though.', 20.333333333333332),\n",
              " (\"it's normally the company secretary's job if there is one, but the overall responsibility is the director's.\",\n",
              "  20.272727272727273),\n",
              " ('that brings me on to my second point.', 20.0),\n",
              " ('shall we move on to the next topic,.', 20.0),\n",
              " (\"let's look at my five points.\", 19.875),\n",
              " ('but, generally speaking tried to avoid interruptions.', 19.77777777777778),\n",
              " (\"they must do it or see that it's done.\", 19.75),\n",
              " ('but not to waffle on for too long.', 19.666666666666668),\n",
              " (\"sometimes it works well, and sometimes it's a disaster.\",\n",
              "  19.636363636363637),\n",
              " ('it is important, and it helps nonexecutive directors, particularly.', 19.5),\n",
              " (\"it's very likely that if the directors do not agree, the majority view will prevail.\",\n",
              "  19.25),\n",
              " (\"it's very likely that the director's concertos the chair.\",\n",
              "  19.22222222222222),\n",
              " (\"articles very enormously, and i don't know what you're say.\",\n",
              "  19.09090909090909),\n",
              " (\"meeting's a long time in advance, perhaps a year or more in advance.\",\n",
              "  19.0),\n",
              " (\"but you should know the rules, and if you don't follow them, then it's an informed decision.\",\n",
              "  18.916666666666668),\n",
              " (\"i must mention one thing, and that's the minutes.\", 18.75),\n",
              " ('okay? i speak to you later.', 18.714285714285715),\n",
              " ('everyone should be allowed to put their point of view,.', 18.7),\n",
              " (\"they're rather like my principles.\", 18.571428571428573),\n",
              " (\"yes, it's a 10 o'clock on the first tuesday in each month.\", 18.25),\n",
              " ('dates fixed well in advance.', 18.142857142857142),\n",
              " ('tohave companies.', 17.857142857142858),\n",
              " ('on this is a matter of style.', 17.857142857142858),\n",
              " (\"you probably don't have many board meetings in there likely to be important.\",\n",
              "  17.8),\n",
              " (\"there's probably no special rule about notice, but everyone should have a chance to be there.\",\n",
              "  17.307692307692307),\n",
              " ('telephone board meetings could probably be okay.', 16.9),\n",
              " ('have you got copies of your articles.', 16.875),\n",
              " ('different styles suit different people and different boards.', 16.875),\n",
              " (\"first of all, i think it's important that you schedule the dates of the board.\",\n",
              "  16.857142857142858),\n",
              " ('things like that.', 16.75),\n",
              " (\"there's not much statutory law about board meetings, although there's quite a bit of case law,.\",\n",
              "  16.666666666666668),\n",
              " ('the agenda and any papers for the meeting should be circulated well in advance.',\n",
              "  16.666666666666668),\n",
              " ('finally have a good chair of the meeting.', 16.666666666666668),\n",
              " ('articles vary a lot, and directors should know what their articles say on this and on other matters.',\n",
              "  16.615384615384617),\n",
              " (\"let's move on to what makes a good board meeting.\", 16.583333333333332),\n",
              " ('this board, with only three directors, probably would not do that.',\n",
              "  16.53846153846154),\n",
              " ('every company must have at least one meeting a year, even adornment.',\n",
              "  16.53846153846154),\n",
              " ('in particular, i know that many boards never have an actual vote.', 16.5),\n",
              " (\"we'll do better starting ahead of next tuesday's meeting.\",\n",
              "  16.181818181818183),\n",
              " ('prepare well and circulate documents in advance.', 16.125),\n",
              " ('and they can change their minds, and the chair probably has a casting vote.',\n",
              "  15.916666666666666),\n",
              " ('there will be something about a quorum.', 15.875),\n",
              " (\"i can tell you, though, what you're quite likely to find in your articles.\",\n",
              "  15.846153846153847),\n",
              " ('does your board do that? especially.', 15.777777777777779),\n",
              " (\"i've worked for more than one autocrat.\", 15.75),\n",
              " ('the latest model articles duel l really time e board meetings subject to conditions, of course, but those model articles might not apply to your company.',\n",
              "  15.533333333333333),\n",
              " ('can i just ask how many board meetings we should have each year?.',\n",
              "  15.363636363636363),\n",
              " (\"it's likely that to a large extent you can make your own rules.\",\n",
              "  15.181818181818182),\n",
              " ('everyone should do their homework and prepare for the meeting.', 14.9),\n",
              " ('whatever the style, the chair should be efficient and try to get the best out of his or her colleagues.',\n",
              "  14.692307692307692),\n",
              " (\"you can't have a meeting unless a certain number of directors are there.\",\n",
              "  14.636363636363637),\n",
              " (\"it doesn't need to be a conference call.\", 14.555555555555555),\n",
              " (\"you won't get the best results if they're spread on the directors at the meeting.\",\n",
              "  14.333333333333334),\n",
              " (\"having made that clear, i'm going to talk first about the importance of the articles and then move on to what makes a good board meeting.\",\n",
              "  13.944444444444445),\n",
              " (\"okay, i think we're all clear about what we'll need to bring to the next meeting.\",\n",
              "  13.875),\n",
              " ('insure the bennetts are taken and have an effective chair.',\n",
              "  13.777777777777779),\n",
              " ('can you photocopy a set for each director? and can we all spend some time looking at them later.',\n",
              "  13.545454545454545),\n",
              " (\"i'd say five out of 10 could do better on dhe.\", 13.4),\n",
              " ('diana gets the financial stuff was out well in advance, but other things often come out at the meeting.',\n",
              "  13.294117647058824),\n",
              " (\"you want to know if the building's on fire or the prime minister's in reception.\",\n",
              "  13.25),\n",
              " (\"either a consensus emerges or the person in the strongest position says, this is what we're going to do.\",\n",
              "  13.2),\n",
              " ('nothing that follows is the law.', 13.2),\n",
              " ('it helps people book holidays and make other business arrangements.', 12.6),\n",
              " (\"somewhere? i'm not sure i could put my hands on them that.\",\n",
              "  12.545454545454545),\n",
              " (\"it's very likely, though, that the directors can unanimously agree something in writing without actually holding a meeting.\",\n",
              "  12.454545454545455),\n",
              " ('the model articles enforce when your company was registered will apply to the extent that they have not been modified for your company.',\n",
              "  12.363636363636363),\n",
              " ('others do itm or informally and just have occasional meetings for formal business.',\n",
              "  12.083333333333334),\n",
              " (\"i do, of course, realize that many boards ignore everything that i've just said, and usually no harm is done.\",\n",
              "  11.31578947368421),\n",
              " ('does that mean that i could be out voted by james and jenna acting together?.',\n",
              "  10.571428571428571),\n",
              " ('this is perhaps the most difficult because the other things can be achieved by rules.',\n",
              "  10.384615384615385),\n",
              " ('this could be done when the company is formed or by the shareholders later.',\n",
              "  10.142857142857142),\n",
              " (\"yes, it does mean that, and it would still mean that if he even if you weren't 100% of the shares, probably wouldn't be a good career move.\",\n",
              "  9.826086956521738),\n",
              " ('the companies act says minutes must be taken on kept for atleast 10 years.',\n",
              "  9.625)]"
            ]
          },
          "metadata": {
            "tags": []
          },
          "execution_count": 73
        }
      ]
    }
  ]
}