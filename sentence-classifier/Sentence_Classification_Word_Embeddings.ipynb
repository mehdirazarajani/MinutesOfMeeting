{
  "nbformat": 4,
  "nbformat_minor": 0,
  "metadata": {
    "kernelspec": {
      "display_name": "Python 3",
      "language": "python",
      "name": "python3"
    },
    "language_info": {
      "codemirror_mode": {
        "name": "ipython",
        "version": 3
      },
      "file_extension": ".py",
      "mimetype": "text/x-python",
      "name": "python",
      "nbconvert_exporter": "python",
      "pygments_lexer": "ipython3",
      "version": "3.7.3"
    },
    "colab": {
      "name": "Sentence Classification Word Embeddings.ipynb",
      "provenance": []
    }
  },
  "cells": [
    {
      "cell_type": "code",
      "metadata": {
        "id": "8yzNK8nOpONP",
        "colab_type": "code",
        "colab": {}
      },
      "source": [
        "try:\n",
        "    %tensorflow_version 2.x\n",
        "except:\n",
        "    pass"
      ],
      "execution_count": 0,
      "outputs": []
    },
    {
      "cell_type": "code",
      "metadata": {
        "id": "_9v4M92eoiLO",
        "colab_type": "code",
        "outputId": "dc74db17-3691-4e29-86fe-3ce245460a2b",
        "colab": {
          "base_uri": "https://localhost:8080/",
          "height": 104
        }
      },
      "source": [
        "# import required packages\n",
        "\n",
        "import pandas as pd \n",
        "import numpy as np\n",
        "import os, gc, time, warnings\n",
        "import itertools    \n",
        "\n",
        "# from scipy.misc import imread\n",
        "from scipy import sparse\n",
        "import scipy.stats as ss\n",
        "from scipy.sparse import csr_matrix, hstack, vstack\n",
        "\n",
        "import matplotlib.pyplot as plt, matplotlib.gridspec as gridspec \n",
        "import seaborn as sns\n",
        "from wordcloud import WordCloud ,STOPWORDS\n",
        "from PIL import Image\n",
        "import matplotlib_venn as venn\n",
        "import pydot, graphviz\n",
        "from IPython.display import Image\n",
        "\n",
        "import string, re, nltk, collections\n",
        "from nltk.util import ngrams\n",
        "from nltk.corpus import stopwords\n",
        "import spacy\n",
        "from nltk import pos_tag\n",
        "from nltk.stem import PorterStemmer\n",
        "from nltk.stem.wordnet import WordNetLemmatizer \n",
        "from nltk.tokenize import word_tokenize\n",
        "from nltk.tokenize import TweetTokenizer   \n",
        "\n",
        "from sklearn.feature_extraction.text import TfidfVectorizer, CountVectorizer, HashingVectorizer\n",
        "from sklearn.decomposition import TruncatedSVD\n",
        "from sklearn.base import BaseEstimator, ClassifierMixin\n",
        "from sklearn.utils.validation import check_X_y, check_is_fitted\n",
        "from sklearn.linear_model import LogisticRegression\n",
        "from sklearn.svm import SVC\n",
        "from sklearn import metrics\n",
        "from sklearn.feature_selection import SelectFromModel\n",
        "from sklearn.preprocessing import StandardScaler\n",
        "from sklearn.metrics import precision_score, recall_score, f1_score, classification_report, confusion_matrix\n",
        "from sklearn.model_selection import StratifiedKFold\n",
        "from sklearn.model_selection import train_test_split\n",
        "\n",
        "import tensorflow as tf\n",
        "import keras.backend as K\n",
        "from keras.models import Model, Sequential\n",
        "from keras.utils import plot_model\n",
        "from keras.utils.np_utils import to_categorical\n",
        "from keras.layers import Input, Dense, Embedding, SpatialDropout1D, concatenate, BatchNormalization\n",
        "from keras.layers import GRU, LSTM, Bidirectional, GlobalAveragePooling1D, GlobalMaxPooling1D, Conv1D\n",
        "from keras.preprocessing import text, sequence\n",
        "from keras.callbacks import Callback\n",
        "import tensorflow_hub as hub\n",
        "\n",
        "print(\"\\u2022 Using TensorFlow Version:\", tf.__version__)"
      ],
      "execution_count": 0,
      "outputs": [
        {
          "output_type": "stream",
          "text": [
            "/usr/local/lib/python3.6/dist-packages/statsmodels/tools/_testing.py:19: FutureWarning: pandas.util.testing is deprecated. Use the functions in the public API at pandas.testing instead.\n",
            "  import pandas.util.testing as tm\n",
            "Using TensorFlow backend.\n"
          ],
          "name": "stderr"
        },
        {
          "output_type": "stream",
          "text": [
            "• Using TensorFlow Version: 2.2.0\n"
          ],
          "name": "stdout"
        }
      ]
    },
    {
      "cell_type": "code",
      "metadata": {
        "id": "54Jf6D1DoiLX",
        "colab_type": "code",
        "outputId": "caded684-7ee4-4859-d886-bf3604819544",
        "colab": {
          "base_uri": "https://localhost:8080/",
          "height": 168
        }
      },
      "source": [
        "# settings\n",
        "\n",
        "os.environ['OMP_NUM_THREADS'] = '4'\n",
        "start_time = time.time()\n",
        "color = sns.color_palette()\n",
        "sns.set_style(\"dark\")\n",
        "warnings.filterwarnings(\"ignore\")\n",
        "\n",
        "nltk.download('stopwords')\n",
        "nltk.download('wordnet')\n",
        "nltk.download('punkt')\n",
        "nltk.download('averaged_perceptron_tagger')\n",
        "\n",
        "eng_stopwords = set(stopwords.words(\"english\"))\n",
        "lem = WordNetLemmatizer()\n",
        "ps = PorterStemmer()\n",
        "tokenizer = TweetTokenizer()\n",
        "\n",
        "%matplotlib inline"
      ],
      "execution_count": 0,
      "outputs": [
        {
          "output_type": "stream",
          "text": [
            "[nltk_data] Downloading package stopwords to /root/nltk_data...\n",
            "[nltk_data]   Unzipping corpora/stopwords.zip.\n",
            "[nltk_data] Downloading package wordnet to /root/nltk_data...\n",
            "[nltk_data]   Unzipping corpora/wordnet.zip.\n",
            "[nltk_data] Downloading package punkt to /root/nltk_data...\n",
            "[nltk_data]   Unzipping tokenizers/punkt.zip.\n",
            "[nltk_data] Downloading package averaged_perceptron_tagger to\n",
            "[nltk_data]     /root/nltk_data...\n",
            "[nltk_data]   Unzipping taggers/averaged_perceptron_tagger.zip.\n"
          ],
          "name": "stdout"
        }
      ]
    },
    {
      "cell_type": "code",
      "metadata": {
        "id": "EjwsYHM-oiLg",
        "colab_type": "code",
        "colab": {}
      },
      "source": [
        "data = pd.read_csv(\"/content/all_data.csv\",header=None, encoding = 'latin-1')"
      ],
      "execution_count": 0,
      "outputs": []
    },
    {
      "cell_type": "code",
      "metadata": {
        "id": "fl1461QloiLk",
        "colab_type": "code",
        "colab": {}
      },
      "source": [
        "APPO = {\n",
        "    \"aren't\" : \"are not\",\n",
        "    \"can't\" : \"cannot\",\n",
        "    \"couldn't\" : \"could not\",\n",
        "    \"didn't\" : \"did not\",\n",
        "    \"doesn't\" : \"does not\",\n",
        "    \"don't\" : \"do not\",\n",
        "    \"hadn't\" : \"had not\",\n",
        "    \"hasn't\" : \"has not\",\n",
        "    \"haven't\" : \"have not\",\n",
        "    \"he'd\" : \"he would\",\n",
        "    \"he'll\" : \"he will\",\n",
        "    \"he's\" : \"he is\",\n",
        "    \"i'd\" : \"I would\",\n",
        "    \"i'd\" : \"I had\",\n",
        "    \"i'll\" : \"I will\",\n",
        "    \"i'm\" : \"I am\",\n",
        "    \"isn't\" : \"is not\",\n",
        "    \"it's\" : \"it is\",\n",
        "    \"it'll\":\"it will\",\n",
        "    \"i've\" : \"I have\",\n",
        "    \"let's\" : \"let us\",\n",
        "    \"mightn't\" : \"might not\",\n",
        "    \"mustn't\" : \"must not\",\n",
        "    \"shan't\" : \"shall not\",\n",
        "    \"she'd\" : \"she would\",\n",
        "    \"she'll\" : \"she will\",\n",
        "    \"she's\" : \"she is\",\n",
        "    \"shouldn't\" : \"should not\",\n",
        "    \"that's\" : \"that is\",\n",
        "    \"there's\" : \"there is\",\n",
        "    \"they'd\" : \"they would\",\n",
        "    \"they'll\" : \"they will\",\n",
        "    \"they're\" : \"they are\",\n",
        "    \"they've\" : \"they have\",\n",
        "    \"we'd\" : \"we would\",\n",
        "    \"we're\" : \"we are\",\n",
        "    \"weren't\" : \"were not\",\n",
        "    \"we've\" : \"we have\",\n",
        "    \"what'll\" : \"what will\",\n",
        "    \"what're\" : \"what are\",\n",
        "    \"what's\" : \"what is\",\n",
        "    \"what've\" : \"what have\",\n",
        "    \"where's\" : \"where is\",\n",
        "    \"who'd\" : \"who would\",\n",
        "    \"who'll\" : \"who will\",\n",
        "    \"who're\" : \"who are\",\n",
        "    \"who's\" : \"who is\",\n",
        "    \"who've\" : \"who have\",\n",
        "    \"won't\" : \"will not\",\n",
        "    \"wouldn't\" : \"would not\",\n",
        "    \"you'd\" : \"you would\",\n",
        "    \"you'll\" : \"you will\",\n",
        "    \"you're\" : \"you are\",\n",
        "    \"you've\" : \"you have\",\n",
        "    \"'re\": \" are\",\n",
        "    \"wasn't\": \"was not\",\n",
        "    \"we'll\":\" will\",\n",
        "    \"didn't\": \"did not\",\n",
        "    \"tryin'\":\"trying\"\n",
        "}"
      ],
      "execution_count": 0,
      "outputs": []
    },
    {
      "cell_type": "code",
      "metadata": {
        "id": "HREIuPkboiLt",
        "colab_type": "code",
        "colab": {}
      },
      "source": [
        "def clean(sentence):\n",
        "    sentence = sentence.lower()\n",
        "    sentence = re.sub('<.*>', '', sentence)\n",
        "    sentence = re.sub(\"\\\\n\", \"\", sentence)\n",
        "    sentence = re.sub(\"\\d{1,3}\\.\\d{1,3}\\.\\d{1,3}\\.\\d{1,3}\", \"\", sentence)\n",
        "    sentence = re.sub(\"\\[\\[.*\\]\", \"\", sentence)\n",
        "    sentence = re.sub(\"[\" + re.sub(\"\\.\",\"\",string.punctuation) + \"]\", \"\", sentence)\n",
        "    \n",
        "    words = tokenizer.tokenize(sentence)\n",
        "    \n",
        "    words = [APPO[word] if word in APPO else word for word in words]\n",
        "    \n",
        "    clean_sent = \" \".join(words)\n",
        "    \n",
        "    return(clean_sent)"
      ],
      "execution_count": 0,
      "outputs": []
    },
    {
      "cell_type": "code",
      "metadata": {
        "id": "pa1Q0-MkoiL1",
        "colab_type": "code",
        "colab": {}
      },
      "source": [
        "def plot_classification_report(classificationReport,\n",
        "                               title='Classification report',\n",
        "                               cmap='RdBu'):\n",
        "\n",
        "    classificationReport = classificationReport.replace('\\n\\n', '\\n')\n",
        "    classificationReport = classificationReport.replace(' / ', '/')\n",
        "    lines = classificationReport.split('\\n')\n",
        "\n",
        "    classes, plotMat, support, class_names = [], [], [], []\n",
        "    for line in lines[1:]:  # if you don't want avg/total result, then change [1:] into [1:-1]\n",
        "        t = line.strip().split()\n",
        "        if len(t) < 2:\n",
        "            continue\n",
        "        i = 0\n",
        "        name = t[0]\n",
        "        # if not t[1].isdigit():\n",
        "        #   i = 1\n",
        "        #   name += \" \" + t[1]\n",
        "        classes.append(name)\n",
        "        v = [float(x) for x in t[i+1: len(t) - 1]]\n",
        "        support.append(int(t[-1]))\n",
        "        class_names.append(name)\n",
        "        plotMat.append(v)\n",
        "\n",
        "    plotMat = np.array(plotMat)\n",
        "    xticklabels = ['Precision', 'Recall', 'F1-score']\n",
        "    yticklabels = ['{0} ({1})'.format(class_names[idx], sup)\n",
        "                   for idx, sup in enumerate(support)]\n",
        "\n",
        "    plt.imshow(plotMat, interpolation='nearest', cmap=cmap, aspect='auto')\n",
        "    plt.title(title)\n",
        "    plt.colorbar()\n",
        "    plt.xticks(np.arange(3), xticklabels, rotation=45)\n",
        "    plt.yticks(np.arange(len(classes)), yticklabels)\n",
        "\n",
        "    upper_thresh = plotMat.min() + (plotMat.max() - plotMat.min()) / 10 * 8\n",
        "    lower_thresh = plotMat.min() + (plotMat.max() - plotMat.min()) / 10 * 2\n",
        "    for i, j in itertools.product(range(plotMat.shape[0]), range(plotMat.shape[1])):\n",
        "        plt.text(j, i, format(plotMat[i, j], '.2f'),\n",
        "                 horizontalalignment=\"center\",\n",
        "                 color=\"white\" if (plotMat[i, j] > upper_thresh or plotMat[i, j] < lower_thresh) else \"black\")\n",
        "\n",
        "    plt.ylabel('Metrics')\n",
        "    plt.xlabel('Classes')\n",
        "    plt.tight_layout()"
      ],
      "execution_count": 0,
      "outputs": []
    },
    {
      "cell_type": "code",
      "metadata": {
        "id": "OVHGfIpOoiMA",
        "colab_type": "code",
        "colab": {}
      },
      "source": [
        "def plot_confusion_matrix(cm, target_names, title='Confusion matrix', cmap=None, normalize=True):\n",
        "\n",
        "    accuracy = np.trace(cm) / np.sum(cm).astype('float')\n",
        "    misclass = 1 - accuracy\n",
        "\n",
        "    if cmap is None:\n",
        "        cmap = plt.get_cmap('Blues')\n",
        "\n",
        "    plt.figure(figsize=(8, 6))\n",
        "    plt.imshow(cm, interpolation='nearest', cmap=cmap)\n",
        "    plt.title(title)\n",
        "    plt.colorbar()\n",
        "\n",
        "    if target_names is not None:\n",
        "        tick_marks = np.arange(len(target_names))\n",
        "        plt.xticks(tick_marks, target_names, rotation=45)\n",
        "        plt.yticks(tick_marks, target_names)\n",
        "\n",
        "    if normalize:\n",
        "        cm = cm.astype('float') / cm.sum(axis=1)[:, np.newaxis]\n",
        "\n",
        "\n",
        "    thresh = cm.max() / 1.5 if normalize else cm.max() / 2\n",
        "    for i, j in itertools.product(range(cm.shape[0]), range(cm.shape[1])):\n",
        "        if normalize:\n",
        "            plt.text(j, i, \"{:0.4f}\".format(cm[i, j]),\n",
        "                     horizontalalignment=\"center\",\n",
        "                     color=\"white\" if cm[i, j] > thresh else \"black\")\n",
        "        else:\n",
        "            plt.text(j, i, \"{:,}\".format(cm[i, j]),\n",
        "                     horizontalalignment=\"center\",\n",
        "                     color=\"white\" if cm[i, j] > thresh else \"black\")\n",
        "\n",
        "\n",
        "    plt.tight_layout()\n",
        "    plt.ylabel('True label')\n",
        "    plt.xlabel('Predicted label\\naccuracy={:0.4f}; misclass={:0.4f}'.format(accuracy, misclass))\n",
        "    plt.show()"
      ],
      "execution_count": 0,
      "outputs": []
    },
    {
      "cell_type": "code",
      "metadata": {
        "id": "YDdyy2LpoiMM",
        "colab_type": "code",
        "colab": {}
      },
      "source": [
        "def get_reverse_mapping(data):\n",
        "  result = list()\n",
        "  _dict = ['Normal','Suggestion','Task Assigned']\n",
        "  for y in data:\n",
        "    result.append(_dict.index(y))\n",
        "  return np.array(result)"
      ],
      "execution_count": 0,
      "outputs": []
    },
    {
      "cell_type": "code",
      "metadata": {
        "id": "cZ-piWB-ssC1",
        "colab_type": "code",
        "colab": {}
      },
      "source": [
        "def get_mapping(data):\n",
        "  result = list()\n",
        "  _dict = ['Normal','Suggestion','Task Assigned']\n",
        "  for y in data:\n",
        "    result.append(_dict[y])\n",
        "  return np.array(result)"
      ],
      "execution_count": 0,
      "outputs": []
    },
    {
      "cell_type": "code",
      "metadata": {
        "id": "HTeADWdfs0-s",
        "colab_type": "code",
        "colab": {}
      },
      "source": [
        "def get_max(data):\n",
        "  result = list()\n",
        "  for _data in data:\n",
        "    result.append(np.argmax(_data))\n",
        "  return np.array(result)"
      ],
      "execution_count": 0,
      "outputs": []
    },
    {
      "cell_type": "code",
      "metadata": {
        "id": "JnhxUbczoiMQ",
        "colab_type": "code",
        "colab": {}
      },
      "source": [
        "# embedding = \"https://tfhub.dev/google/tf2-preview/gnews-swivel-20dim/1\"\n",
        "embedding = \"https://tfhub.dev/google/tf2-preview/nnlm-en-dim128/1\"\n",
        "# embedding = \"https://tfhub.dev/google/universal-sentence-encoder/4\"\n",
        "hub_layer = hub.KerasLayer(embedding, input_shape=[], dtype=tf.string, trainable=True,)\n",
        "\n",
        "embed = hub.load(\"https://tfhub.dev/google/universal-sentence-encoder/4\")"
      ],
      "execution_count": 0,
      "outputs": []
    },
    {
      "cell_type": "code",
      "metadata": {
        "id": "sYY_ktVsoiMU",
        "colab_type": "code",
        "colab": {}
      },
      "source": [
        "data['clean'] = data[0].apply(clean)"
      ],
      "execution_count": 0,
      "outputs": []
    },
    {
      "cell_type": "code",
      "metadata": {
        "id": "iF1dekE4oiMX",
        "colab_type": "code",
        "outputId": "475570fe-f64d-442e-f658-c2aad54d6d59",
        "colab": {
          "base_uri": "https://localhost:8080/",
          "height": 195
        }
      },
      "source": [
        "data.head()"
      ],
      "execution_count": 0,
      "outputs": [
        {
          "output_type": "execute_result",
          "data": {
            "text/html": [
              "<div>\n",
              "<style scoped>\n",
              "    .dataframe tbody tr th:only-of-type {\n",
              "        vertical-align: middle;\n",
              "    }\n",
              "\n",
              "    .dataframe tbody tr th {\n",
              "        vertical-align: top;\n",
              "    }\n",
              "\n",
              "    .dataframe thead th {\n",
              "        text-align: right;\n",
              "    }\n",
              "</style>\n",
              "<table border=\"1\" class=\"dataframe\">\n",
              "  <thead>\n",
              "    <tr style=\"text-align: right;\">\n",
              "      <th></th>\n",
              "      <th>0</th>\n",
              "      <th>1</th>\n",
              "      <th>clean</th>\n",
              "      <th>split</th>\n",
              "    </tr>\n",
              "  </thead>\n",
              "  <tbody>\n",
              "    <tr>\n",
              "      <th>0</th>\n",
              "      <td>\"Please enable removing language code from the...</td>\n",
              "      <td>Suggestion</td>\n",
              "      <td>please enable removing language code from the ...</td>\n",
              "      <td>-0.393987</td>\n",
              "    </tr>\n",
              "    <tr>\n",
              "      <th>1</th>\n",
              "      <td>\"Note: in your .csproj file, there is a Suppor...</td>\n",
              "      <td>Normal</td>\n",
              "      <td>note in your csproj file there is a supportedc...</td>\n",
              "      <td>-0.421896</td>\n",
              "    </tr>\n",
              "    <tr>\n",
              "      <th>2</th>\n",
              "      <td>\"Wich means the new version not fully replaced...</td>\n",
              "      <td>Normal</td>\n",
              "      <td>wich means the new version not fully replaced ...</td>\n",
              "      <td>0.103434</td>\n",
              "    </tr>\n",
              "    <tr>\n",
              "      <th>3</th>\n",
              "      <td>\"Some of my users will still receive the old x...</td>\n",
              "      <td>Normal</td>\n",
              "      <td>some of my users will still receive the old xa...</td>\n",
              "      <td>1.181998</td>\n",
              "    </tr>\n",
              "    <tr>\n",
              "      <th>4</th>\n",
              "      <td>\"The store randomly gives the old xap or the n...</td>\n",
              "      <td>Normal</td>\n",
              "      <td>the store randomly gives the old xap or the ne...</td>\n",
              "      <td>-1.212600</td>\n",
              "    </tr>\n",
              "  </tbody>\n",
              "</table>\n",
              "</div>"
            ],
            "text/plain": [
              "                                                   0  ...     split\n",
              "0  \"Please enable removing language code from the...  ... -0.393987\n",
              "1  \"Note: in your .csproj file, there is a Suppor...  ... -0.421896\n",
              "2  \"Wich means the new version not fully replaced...  ...  0.103434\n",
              "3  \"Some of my users will still receive the old x...  ...  1.181998\n",
              "4  \"The store randomly gives the old xap or the n...  ... -1.212600\n",
              "\n",
              "[5 rows x 4 columns]"
            ]
          },
          "metadata": {
            "tags": []
          },
          "execution_count": 23
        }
      ]
    },
    {
      "cell_type": "code",
      "metadata": {
        "id": "nZzWWtYJoiMd",
        "colab_type": "code",
        "colab": {}
      },
      "source": [
        "embeddings = embed(data['clean'])"
      ],
      "execution_count": 0,
      "outputs": []
    },
    {
      "cell_type": "code",
      "metadata": {
        "id": "nb6Fa-SeoiMg",
        "colab_type": "code",
        "outputId": "c6421bfa-211a-4580-d4b4-229690b0238e",
        "colab": {
          "base_uri": "https://localhost:8080/",
          "height": 34
        }
      },
      "source": [
        "embeddings.shape"
      ],
      "execution_count": 0,
      "outputs": [
        {
          "output_type": "execute_result",
          "data": {
            "text/plain": [
              "TensorShape([16659, 512])"
            ]
          },
          "metadata": {
            "tags": []
          },
          "execution_count": 18
        }
      ]
    },
    {
      "cell_type": "code",
      "metadata": {
        "id": "IcpfhdU8qS8H",
        "colab_type": "code",
        "outputId": "fcc300cb-eeec-4608-84ee-f46f99d07233",
        "colab": {
          "base_uri": "https://localhost:8080/",
          "height": 252
        }
      },
      "source": [
        "hub_layer(data['clean'])"
      ],
      "execution_count": 0,
      "outputs": [
        {
          "output_type": "execute_result",
          "data": {
            "text/plain": [
              "<tf.Tensor: shape=(16659, 128), dtype=float32, numpy=\n",
              "array([[ 0.63013035,  0.19130804,  0.09762008, ..., -0.21370046,\n",
              "         0.08764406,  0.15289696],\n",
              "       [ 0.65838945,  0.23881757,  0.02174013, ...,  0.01044228,\n",
              "        -0.01791488,  0.01166859],\n",
              "       [ 0.62958086,  0.11577342,  0.11355256, ..., -0.2667382 ,\n",
              "         0.01042861,  0.18492974],\n",
              "       ...,\n",
              "       [ 0.49796587, -0.04534454,  0.09552862, ..., -0.12623684,\n",
              "         0.00558632,  0.06706948],\n",
              "       [ 0.168605  , -0.03690415, -0.0227375 , ...,  0.00408394,\n",
              "        -0.02201832, -0.12137195],\n",
              "       [ 0.24818476, -0.04291822,  0.08451801, ...,  0.01337689,\n",
              "        -0.07571771, -0.02210846]], dtype=float32)>"
            ]
          },
          "metadata": {
            "tags": []
          },
          "execution_count": 19
        }
      ]
    },
    {
      "cell_type": "code",
      "metadata": {
        "id": "gf_3oe9uoiMj",
        "colab_type": "code",
        "colab": {}
      },
      "source": [
        "data['split'] = np.random.randn(data.shape[0], 1)\n",
        "\n",
        "msk = np.random.rand(len(data)) <= 0.7\n",
        "\n",
        "train = data[msk]\n",
        "dev = data[~msk]"
      ],
      "execution_count": 0,
      "outputs": []
    },
    {
      "cell_type": "code",
      "metadata": {
        "id": "A5eLetJJoiMm",
        "colab_type": "code",
        "colab": {}
      },
      "source": [
        "x_train = embed(train['clean']).numpy()\n",
        "y_train = train[1].values\n",
        "x_dev = embed(dev['clean']).numpy()\n",
        "y_dev = dev[1].values"
      ],
      "execution_count": 0,
      "outputs": []
    },
    {
      "cell_type": "code",
      "metadata": {
        "id": "pHtHB75ToiMs",
        "colab_type": "code",
        "colab": {}
      },
      "source": [
        "train_labels = pd.DataFrame()\n",
        "dev_labels = pd.DataFrame()"
      ],
      "execution_count": 0,
      "outputs": []
    },
    {
      "cell_type": "code",
      "metadata": {
        "id": "MaHYZHstoiMv",
        "colab_type": "code",
        "outputId": "7d65ead1-8948-4a26-f2b9-bb990a10f326",
        "colab": {
          "base_uri": "https://localhost:8080/",
          "height": 185
        }
      },
      "source": [
        "# SVM classifier\n",
        "\n",
        "# reducing the number of features using Singular Value Decomposition\n",
        "svd = TruncatedSVD(n_components = 15)\n",
        "svd.fit(vstack((x_train, x_dev)).tocsr())\n",
        "x_train_svd = svd.transform(x_train)\n",
        "x_dev_svd = svd.transform(x_dev)\n",
        "\n",
        "# scaling the data obtained from SVD\n",
        "scaler = StandardScaler()\n",
        "scaler.fit(np.concatenate((x_train_svd, x_dev_svd)))\n",
        "x_train_svd = scaler.transform(x_train_svd)\n",
        "x_dev_svd = scaler.transform(x_dev_svd)\n",
        "\n",
        "clf = SVC(C = 0.1, probability = True)\n",
        "clf.fit(x_train_svd, y_train)\n",
        "\n",
        "svm_dev_pred = clf.predict(x_dev_svd)\n",
        "\n",
        "train_labels['svm'] = clf.predict(x_train_svd)\n",
        "dev_labels['svm'] = svm_dev_pred\n",
        "\n",
        "y_pred = svm_dev_pred\n",
        "classification = classification_report(y_dev, y_pred, digits=3).replace('Task Assigned','Task_Assigned')\n",
        "print(classification)"
      ],
      "execution_count": 0,
      "outputs": [
        {
          "output_type": "stream",
          "text": [
            "               precision    recall  f1-score   support\n",
            "\n",
            "       Normal      0.816     0.920     0.865      2253\n",
            "   Suggestion      0.675     0.351     0.462       729\n",
            "Task_Assigned      0.954     0.984     0.969      1960\n",
            "\n",
            "     accuracy                          0.861      4942\n",
            "    macro avg      0.815     0.752     0.765      4942\n",
            " weighted avg      0.850     0.861     0.846      4942\n",
            "\n"
          ],
          "name": "stdout"
        }
      ]
    },
    {
      "cell_type": "code",
      "metadata": {
        "id": "MYmgWA0eoiMz",
        "colab_type": "code",
        "outputId": "8d906387-97ec-4db8-f7e4-0da0515fcb66",
        "colab": {
          "base_uri": "https://localhost:8080/",
          "height": 297
        }
      },
      "source": [
        "s = classification.split('\\n\\n')\n",
        "classification = s[0] + '\\n\\n' + s[1]\n",
        "plot_classification_report(classification)\n",
        "plt.title('SVM Classifier')\n",
        "plt.show()\n",
        "plt.close()"
      ],
      "execution_count": 0,
      "outputs": [
        {
          "output_type": "display_data",
          "data": {
            "image/png": "[encoded data removed]",
            "text/plain": [
              "<Figure size 432x288 with 2 Axes>"
            ]
          },
          "metadata": {
            "tags": [],
            "needs_background": "light"
          }
        }
      ]
    },
    {
      "cell_type": "code",
      "metadata": {
        "id": "fsV96TqeoiM4",
        "colab_type": "code",
        "outputId": "96cbe966-4f0e-4bfa-b5c0-071239c7cb67",
        "colab": {
          "base_uri": "https://localhost:8080/",
          "height": 467
        }
      },
      "source": [
        "cm = confusion_matrix(y_dev, y_pred)\n",
        "plot_confusion_matrix(cm, ['Normal','Suggestion','Task Assigned'],title='SVM Classifier')"
      ],
      "execution_count": 0,
      "outputs": [
        {
          "output_type": "display_data",
          "data": {
            "image/png": "[encoded data removed]",
            "text/plain": [
              "<Figure size 576x432 with 2 Axes>"
            ]
          },
          "metadata": {
            "tags": [],
            "needs_background": "light"
          }
        }
      ]
    },
    {
      "cell_type": "code",
      "metadata": {
        "id": "on1kyfNBrxUt",
        "colab_type": "code",
        "colab": {}
      },
      "source": [
        "max_features = 11760\n",
        "# max_features = 17139\n",
        "maxlen = 600\n",
        "embed_size = 300\n",
        "\n",
        "pos_tags_train = train[0].apply(lambda x : \" \".join(item[1] for item in pos_tag(word_tokenize(x)))).values\n",
        "pos_tags_dev = dev[0].apply(lambda x : \" \".join(item[1] for item in pos_tag(word_tokenize(x)))).values\n",
        "\n",
        "x_train = train[0].values + \" \" + pos_tags_train\n",
        "y_train = train[1].values\n",
        "x_dev = dev[0].values + \" \" + pos_tags_dev\n",
        "y_dev = dev[1].values"
      ],
      "execution_count": 0,
      "outputs": []
    },
    {
      "cell_type": "markdown",
      "metadata": {
        "id": "rX2cdxDXxznm",
        "colab_type": "text"
      },
      "source": [
        "In the code below we will build a Keras Sequential model with the following layers:\n",
        "\n",
        "*   The first layer is a TensorFlow Hub layer. This layer uses a pre-trained SavedModel to map a sentence into its embedding vector. The model that we are using (google/tf2-preview/gnews-swivel-20dim/1) splits the sentence into tokens, embeds each token and then combines the embedding. The resulting dimensions are: (num_examples, embedding_dimension).\n",
        "*   This fixed-length output vector is piped through a fully-connected (Dense) layer with 16 hidden units.\n",
        "*   The last layer is densely connected with a three output node. Using the softmax activation function."
      ]
    },
    {
      "cell_type": "code",
      "metadata": {
        "id": "FNGZe9p6oiNB",
        "colab_type": "code",
        "outputId": "e619d576-603e-49b8-804f-d92e2a63d44b",
        "colab": {
          "base_uri": "https://localhost:8080/",
          "height": 706
        }
      },
      "source": [
        "# Hybrid Neural Network classifier\n",
        "\n",
        "y_train = to_categorical(get_reverse_mapping(train[1]), 3)\n",
        "y_dev = to_categorical(get_reverse_mapping(dev[1]), 3)\n",
        "\n",
        "model = tf.keras.Sequential([\n",
        "        hub_layer,\n",
        "        tf.keras.layers.Dense(16, activation='relu'),\n",
        "        tf.keras.layers.Dense(3, activation = \"softmax\")])\n",
        "    \n",
        "model.compile(loss = 'categorical_crossentropy', optimizer = 'adam', metrics = ['accuracy'])\n",
        "model.fit(x_train, y_train, batch_size = 512, epochs = 25, validation_data = (x_dev, y_dev), verbose = 1)"
      ],
      "execution_count": 0,
      "outputs": [
        {
          "output_type": "stream",
          "text": [
            "Epoch 1/20\n",
            "23/23 [==============================] - 0s 17ms/step - loss: 1.0698 - accuracy: 0.4245 - val_loss: 0.9438 - val_accuracy: 0.5992\n",
            "Epoch 2/20\n",
            "23/23 [==============================] - 0s 13ms/step - loss: 0.8516 - accuracy: 0.7029 - val_loss: 0.7723 - val_accuracy: 0.7628\n",
            "Epoch 3/20\n",
            "23/23 [==============================] - 0s 13ms/step - loss: 0.6953 - accuracy: 0.7884 - val_loss: 0.6397 - val_accuracy: 0.7948\n",
            "Epoch 4/20\n",
            "23/23 [==============================] - 0s 14ms/step - loss: 0.5741 - accuracy: 0.8092 - val_loss: 0.5447 - val_accuracy: 0.8084\n",
            "Epoch 5/20\n",
            "23/23 [==============================] - 0s 13ms/step - loss: 0.4902 - accuracy: 0.8191 - val_loss: 0.4836 - val_accuracy: 0.8175\n",
            "Epoch 6/20\n",
            "23/23 [==============================] - 0s 13ms/step - loss: 0.4356 - accuracy: 0.8285 - val_loss: 0.4446 - val_accuracy: 0.8240\n",
            "Epoch 7/20\n",
            "23/23 [==============================] - 0s 13ms/step - loss: 0.3984 - accuracy: 0.8376 - val_loss: 0.4175 - val_accuracy: 0.8292\n",
            "Epoch 8/20\n",
            "23/23 [==============================] - 0s 13ms/step - loss: 0.3702 - accuracy: 0.8462 - val_loss: 0.3975 - val_accuracy: 0.8335\n",
            "Epoch 9/20\n",
            "23/23 [==============================] - 0s 13ms/step - loss: 0.3474 - accuracy: 0.8548 - val_loss: 0.3820 - val_accuracy: 0.8395\n",
            "Epoch 10/20\n",
            "23/23 [==============================] - 0s 14ms/step - loss: 0.3282 - accuracy: 0.8629 - val_loss: 0.3691 - val_accuracy: 0.8458\n",
            "Epoch 11/20\n",
            "23/23 [==============================] - 0s 13ms/step - loss: 0.3111 - accuracy: 0.8705 - val_loss: 0.3588 - val_accuracy: 0.8519\n",
            "Epoch 12/20\n",
            "23/23 [==============================] - 0s 12ms/step - loss: 0.2954 - accuracy: 0.8788 - val_loss: 0.3482 - val_accuracy: 0.8565\n",
            "Epoch 13/20\n",
            "23/23 [==============================] - 0s 12ms/step - loss: 0.2808 - accuracy: 0.8856 - val_loss: 0.3400 - val_accuracy: 0.8600\n",
            "Epoch 14/20\n",
            "23/23 [==============================] - 0s 13ms/step - loss: 0.2674 - accuracy: 0.8926 - val_loss: 0.3335 - val_accuracy: 0.8622\n",
            "Epoch 15/20\n",
            "23/23 [==============================] - 0s 13ms/step - loss: 0.2554 - accuracy: 0.8975 - val_loss: 0.3263 - val_accuracy: 0.8650\n",
            "Epoch 16/20\n",
            "23/23 [==============================] - 0s 13ms/step - loss: 0.2436 - accuracy: 0.9030 - val_loss: 0.3208 - val_accuracy: 0.8669\n",
            "Epoch 17/20\n",
            "23/23 [==============================] - 0s 13ms/step - loss: 0.2326 - accuracy: 0.9078 - val_loss: 0.3160 - val_accuracy: 0.8681\n",
            "Epoch 18/20\n",
            "23/23 [==============================] - 0s 13ms/step - loss: 0.2226 - accuracy: 0.9129 - val_loss: 0.3123 - val_accuracy: 0.8673\n",
            "Epoch 19/20\n",
            "23/23 [==============================] - 0s 13ms/step - loss: 0.2129 - accuracy: 0.9173 - val_loss: 0.3082 - val_accuracy: 0.8705\n",
            "Epoch 20/20\n",
            "23/23 [==============================] - 0s 13ms/step - loss: 0.2035 - accuracy: 0.9212 - val_loss: 0.3057 - val_accuracy: 0.8695\n"
          ],
          "name": "stdout"
        },
        {
          "output_type": "execute_result",
          "data": {
            "text/plain": [
              "<tensorflow.python.keras.callbacks.History at 0x7f3a17d7aac8>"
            ]
          },
          "metadata": {
            "tags": []
          },
          "execution_count": 27
        }
      ]
    },
    {
      "cell_type": "code",
      "metadata": {
        "id": "7JFTt7uUoiNE",
        "colab_type": "code",
        "outputId": "20a7f275-b4f8-4450-9f13-641d58983220",
        "colab": {
          "base_uri": "https://localhost:8080/",
          "height": 218
        }
      },
      "source": [
        "nn_dev_pred = get_mapping(get_max(model.predict(x_dev, batch_size = 128, verbose = 1)))\n",
        "\n",
        "train_labels['nn'] = get_mapping(get_max(model.predict(x_train, batch_size = 128, verbose = 1)))\n",
        "dev_labels['nn'] = nn_dev_pred\n",
        "\n",
        "y_pred = nn_dev_pred\n",
        "y_dev = get_mapping(get_max(y_dev))\n",
        "classification = classification_report(y_dev, y_pred, digits=3).replace('Task Assigned','Task_Assigned')\n",
        "print(classification)"
      ],
      "execution_count": 0,
      "outputs": [
        {
          "output_type": "stream",
          "text": [
            "39/39 [==============================] - 0s 2ms/step\n",
            "92/92 [==============================] - 0s 2ms/step\n",
            "               precision    recall  f1-score   support\n",
            "\n",
            "       Normal      0.857     0.875     0.866      2253\n",
            "   Suggestion      0.621     0.538     0.576       729\n",
            "Task_Assigned      0.962     0.987     0.974      1960\n",
            "\n",
            "     accuracy                          0.869      4942\n",
            "    macro avg      0.813     0.800     0.805      4942\n",
            " weighted avg      0.864     0.869     0.866      4942\n",
            "\n"
          ],
          "name": "stdout"
        }
      ]
    },
    {
      "cell_type": "code",
      "metadata": {
        "id": "CpVavCvuoiNH",
        "colab_type": "code",
        "outputId": "b47e3645-26f0-4480-ff16-b6bfe4b35a9c",
        "colab": {
          "base_uri": "https://localhost:8080/",
          "height": 297
        }
      },
      "source": [
        "s = classification.split('\\n\\n')\n",
        "classification = s[0] + '\\n\\n' + s[1]\n",
        "plot_classification_report(classification)\n",
        "plt.title('Hybrid Neural Network classifier')\n",
        "plt.show()\n",
        "plt.close()"
      ],
      "execution_count": 0,
      "outputs": [
        {
          "output_type": "display_data",
          "data": {
            "image/png": "[encoded data removed]",
            "text/plain": [
              "<Figure size 432x288 with 2 Axes>"
            ]
          },
          "metadata": {
            "tags": [],
            "needs_background": "light"
          }
        }
      ]
    },
    {
      "cell_type": "code",
      "metadata": {
        "id": "mQpI-VC4oiNN",
        "colab_type": "code",
        "outputId": "d28f2776-0077-4edb-91ef-00953f70609b",
        "colab": {
          "base_uri": "https://localhost:8080/",
          "height": 467
        }
      },
      "source": [
        "cm = confusion_matrix(y_dev, y_pred)\n",
        "plot_confusion_matrix(cm, ['Normal','Suggestion','Task Assigned'], title = 'Hybrid Neural Network classifier')"
      ],
      "execution_count": 0,
      "outputs": [
        {
          "output_type": "display_data",
          "data": {
            "image/png": "[encoded data removed]",
            "text/plain": [
              "<Figure size 576x432 with 2 Axes>"
            ]
          },
          "metadata": {
            "tags": [],
            "needs_background": "light"
          }
        }
      ]
    },
    {
      "cell_type": "markdown",
      "metadata": {
        "id": "KVQ9WsVKydlx",
        "colab_type": "text"
      },
      "source": [
        "In the code below we will build a Keras Sequential model with the following layers:\n",
        "\n",
        "*   The first layer is a TensorFlow Hub layer. This layer uses a pre-trained SavedModel to map a sentence into its embedding vector. The model that we are using (google/tf2-preview/nnlm-en-dim128/1) splits the sentence into tokens, embeds each token and then combines the embedding. The resulting dimensions are: (num_examples, embedding_dimension).\n",
        "*   This fixed-length output vector is piped through a fully-connected (Dense) layer with 20 hidden units.\n",
        "*   This fixed-length output vector is piped through a fully-connected (Dense) layer with 16 hidden units.\n",
        "*   The last layer is densely connected with a three output node. Using the softmax activation function."
      ]
    },
    {
      "cell_type": "code",
      "metadata": {
        "id": "86O-sWDqs931",
        "colab_type": "code",
        "outputId": "e62fd35d-8664-4a2a-b2b8-6e3f54591159",
        "colab": {
          "base_uri": "https://localhost:8080/",
          "height": 874
        }
      },
      "source": [
        "# Hybrid Neural Network classifier\n",
        "\n",
        "y_train = to_categorical(get_reverse_mapping(train[1]), 3)\n",
        "y_dev = to_categorical(get_reverse_mapping(dev[1]), 3)\n",
        "\n",
        "model = tf.keras.Sequential([\n",
        "        hub_layer,\n",
        "        tf.keras.layers.Dense(20, activation='relu'),\n",
        "        tf.keras.layers.Dense(16, activation='relu'),\n",
        "        tf.keras.layers.Dense(3, activation = \"softmax\")])    \n",
        "\n",
        "model.compile(loss = 'categorical_crossentropy', optimizer = 'adam', metrics = ['accuracy'])\n",
        "model.fit(x_train, y_train, batch_size = 512, epochs = 25, validation_data = (x_dev, y_dev), verbose = 1)"
      ],
      "execution_count": 0,
      "outputs": [
        {
          "output_type": "stream",
          "text": [
            "Epoch 1/25\n",
            "23/23 [==============================] - 30s 1s/step - loss: 0.9634 - accuracy: 0.5798 - val_loss: 0.7902 - val_accuracy: 0.7847\n",
            "Epoch 2/25\n",
            "23/23 [==============================] - 29s 1s/step - loss: 0.6266 - accuracy: 0.8206 - val_loss: 0.4872 - val_accuracy: 0.8357\n",
            "Epoch 3/25\n",
            "23/23 [==============================] - 29s 1s/step - loss: 0.3794 - accuracy: 0.8464 - val_loss: 0.3435 - val_accuracy: 0.8632\n",
            "Epoch 4/25\n",
            "23/23 [==============================] - 29s 1s/step - loss: 0.2620 - accuracy: 0.9037 - val_loss: 0.2883 - val_accuracy: 0.8834\n",
            "Epoch 5/25\n",
            "23/23 [==============================] - 29s 1s/step - loss: 0.1959 - accuracy: 0.9327 - val_loss: 0.2637 - val_accuracy: 0.8928\n",
            "Epoch 6/25\n",
            "23/23 [==============================] - 29s 1s/step - loss: 0.1458 - accuracy: 0.9514 - val_loss: 0.2588 - val_accuracy: 0.8968\n",
            "Epoch 7/25\n",
            "23/23 [==============================] - 29s 1s/step - loss: 0.1075 - accuracy: 0.9670 - val_loss: 0.2649 - val_accuracy: 0.8950\n",
            "Epoch 8/25\n",
            "23/23 [==============================] - 29s 1s/step - loss: 0.0808 - accuracy: 0.9789 - val_loss: 0.2746 - val_accuracy: 0.8934\n",
            "Epoch 9/25\n",
            "23/23 [==============================] - 29s 1s/step - loss: 0.0606 - accuracy: 0.9855 - val_loss: 0.2902 - val_accuracy: 0.8915\n",
            "Epoch 10/25\n",
            "23/23 [==============================] - 29s 1s/step - loss: 0.0471 - accuracy: 0.9904 - val_loss: 0.3092 - val_accuracy: 0.8883\n",
            "Epoch 11/25\n",
            "23/23 [==============================] - 29s 1s/step - loss: 0.0376 - accuracy: 0.9931 - val_loss: 0.3286 - val_accuracy: 0.8865\n",
            "Epoch 12/25\n",
            "23/23 [==============================] - 29s 1s/step - loss: 0.0291 - accuracy: 0.9955 - val_loss: 0.3540 - val_accuracy: 0.8861\n",
            "Epoch 13/25\n",
            "23/23 [==============================] - 29s 1s/step - loss: 0.0235 - accuracy: 0.9963 - val_loss: 0.3672 - val_accuracy: 0.8830\n",
            "Epoch 14/25\n",
            "23/23 [==============================] - 29s 1s/step - loss: 0.0193 - accuracy: 0.9971 - val_loss: 0.3837 - val_accuracy: 0.8824\n",
            "Epoch 15/25\n",
            "23/23 [==============================] - 29s 1s/step - loss: 0.0164 - accuracy: 0.9977 - val_loss: 0.4130 - val_accuracy: 0.8841\n",
            "Epoch 16/25\n",
            "23/23 [==============================] - 29s 1s/step - loss: 0.0142 - accuracy: 0.9980 - val_loss: 0.4214 - val_accuracy: 0.8832\n",
            "Epoch 17/25\n",
            "23/23 [==============================] - 29s 1s/step - loss: 0.0126 - accuracy: 0.9982 - val_loss: 0.4321 - val_accuracy: 0.8810\n",
            "Epoch 18/25\n",
            "23/23 [==============================] - 29s 1s/step - loss: 0.0112 - accuracy: 0.9984 - val_loss: 0.4521 - val_accuracy: 0.8814\n",
            "Epoch 19/25\n",
            "23/23 [==============================] - 29s 1s/step - loss: 0.0100 - accuracy: 0.9986 - val_loss: 0.4644 - val_accuracy: 0.8810\n",
            "Epoch 20/25\n",
            "23/23 [==============================] - 29s 1s/step - loss: 0.0091 - accuracy: 0.9987 - val_loss: 0.4780 - val_accuracy: 0.8810\n",
            "Epoch 21/25\n",
            "23/23 [==============================] - 29s 1s/step - loss: 0.0084 - accuracy: 0.9988 - val_loss: 0.4858 - val_accuracy: 0.8808\n",
            "Epoch 22/25\n",
            "23/23 [==============================] - 29s 1s/step - loss: 0.0078 - accuracy: 0.9988 - val_loss: 0.4947 - val_accuracy: 0.8802\n",
            "Epoch 23/25\n",
            "23/23 [==============================] - 29s 1s/step - loss: 0.0073 - accuracy: 0.9988 - val_loss: 0.5024 - val_accuracy: 0.8790\n",
            "Epoch 24/25\n",
            "23/23 [==============================] - 29s 1s/step - loss: 0.0067 - accuracy: 0.9989 - val_loss: 0.5186 - val_accuracy: 0.8798\n",
            "Epoch 25/25\n",
            "23/23 [==============================] - 29s 1s/step - loss: 0.0062 - accuracy: 0.9990 - val_loss: 0.5312 - val_accuracy: 0.8794\n"
          ],
          "name": "stdout"
        },
        {
          "output_type": "execute_result",
          "data": {
            "text/plain": [
              "<tensorflow.python.keras.callbacks.History at 0x7f3a13567a90>"
            ]
          },
          "metadata": {
            "tags": []
          },
          "execution_count": 46
        }
      ]
    },
    {
      "cell_type": "code",
      "metadata": {
        "id": "DV-jwNhDuNyL",
        "colab_type": "code",
        "outputId": "d1ec792a-1052-411f-81dd-01459ead393f",
        "colab": {
          "base_uri": "https://localhost:8080/",
          "height": 218
        }
      },
      "source": [
        "nn_dev_pred = get_mapping(get_max(model.predict(x_dev, batch_size = 512, verbose = 1)))\n",
        "\n",
        "train_labels['nn1'] = get_mapping(get_max(model.predict(x_train, batch_size = 512, verbose = 1)))\n",
        "dev_labels['nn1'] = nn_dev_pred\n",
        "\n",
        "y_pred = nn_dev_pred\n",
        "y_dev = get_mapping(get_max(y_dev))\n",
        "classification = classification_report(y_dev, y_pred, digits=3).replace('Task Assigned','Task_Assigned')\n",
        "print(classification)"
      ],
      "execution_count": 0,
      "outputs": [
        {
          "output_type": "stream",
          "text": [
            "10/10 [==============================] - 1s 142ms/step\n",
            "23/23 [==============================] - 3s 149ms/step\n",
            "               precision    recall  f1-score   support\n",
            "\n",
            "       Normal      0.855     0.889     0.872      2253\n",
            "   Suggestion      0.638     0.565     0.599       729\n",
            "Task_Assigned      0.988     0.985     0.986      1960\n",
            "\n",
            "     accuracy                          0.879      4942\n",
            "    macro avg      0.827     0.813     0.819      4942\n",
            " weighted avg      0.876     0.879     0.877      4942\n",
            "\n"
          ],
          "name": "stdout"
        }
      ]
    },
    {
      "cell_type": "code",
      "metadata": {
        "id": "x7GsYqP6zU0B",
        "colab_type": "code",
        "outputId": "b211c8b1-7b7b-4b8d-8ec5-675236ed9767",
        "colab": {
          "base_uri": "https://localhost:8080/",
          "height": 297
        }
      },
      "source": [
        "s = classification.split('\\n\\n')\n",
        "classification = s[0] + '\\n\\n' + s[1]\n",
        "plot_classification_report(classification)\n",
        "plt.title('Hybrid Neural Network classifier')\n",
        "plt.show()\n",
        "plt.close()"
      ],
      "execution_count": 0,
      "outputs": [
        {
          "output_type": "display_data",
          "data": {
            "image/png": "[encoded data removed]",
            "text/plain": [
              "<Figure size 432x288 with 2 Axes>"
            ]
          },
          "metadata": {
            "tags": [],
            "needs_background": "light"
          }
        }
      ]
    },
    {
      "cell_type": "code",
      "metadata": {
        "id": "GEh2NkNDzWWH",
        "colab_type": "code",
        "outputId": "bc7838d8-525a-494f-c1ea-1593276e5630",
        "colab": {
          "base_uri": "https://localhost:8080/",
          "height": 467
        }
      },
      "source": [
        "cm = confusion_matrix(y_dev, y_pred)\n",
        "plot_confusion_matrix(cm, ['Normal','Suggestion','Task Assigned'], title = 'Hybrid Neural Network classifier')"
      ],
      "execution_count": 0,
      "outputs": [
        {
          "output_type": "display_data",
          "data": {
            "image/png": "[encoded data removed]",
            "text/plain": [
              "<Figure size 576x432 with 2 Axes>"
            ]
          },
          "metadata": {
            "tags": [],
            "needs_background": "light"
          }
        }
      ]
    }
  ]
}